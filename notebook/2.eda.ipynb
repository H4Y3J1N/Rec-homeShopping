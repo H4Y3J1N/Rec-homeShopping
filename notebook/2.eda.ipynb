{
 "cells": [
  {
   "cell_type": "code",
   "execution_count": 2,
   "metadata": {},
   "outputs": [],
   "source": [
    "import sys\n",
    "sys.path.append(\"../src\")\n",
    "import pandas as pd\n",
    "from dataLoad import dataLoad\n",
    "import matplotlib.pyplot as plt\n",
    "\n",
    "path= \"../dataset/\"\n",
    "item_names_table, train_user_seq_log, test_user_label, test_user_seq_log = dataLoad(path)"
   ]
  },
  {
   "attachments": {},
   "cell_type": "markdown",
   "metadata": {},
   "source": [
    "# Test user Seq log & label"
   ]
  },
  {
   "cell_type": "code",
   "execution_count": 47,
   "metadata": {},
   "outputs": [
    {
     "data": {
      "text/html": [
       "<div>\n",
       "<style scoped>\n",
       "    .dataframe tbody tr th:only-of-type {\n",
       "        vertical-align: middle;\n",
       "    }\n",
       "\n",
       "    .dataframe tbody tr th {\n",
       "        vertical-align: top;\n",
       "    }\n",
       "\n",
       "    .dataframe thead th {\n",
       "        text-align: right;\n",
       "    }\n",
       "</style>\n",
       "<table border=\"1\" class=\"dataframe\">\n",
       "  <thead>\n",
       "    <tr style=\"text-align: right;\">\n",
       "      <th></th>\n",
       "      <th>user</th>\n",
       "      <th>item_id</th>\n",
       "      <th>timestamp</th>\n",
       "    </tr>\n",
       "  </thead>\n",
       "  <tbody>\n",
       "    <tr>\n",
       "      <th>0</th>\n",
       "      <td>0</td>\n",
       "      <td>223132</td>\n",
       "      <td>2021-05-10 21:38:12</td>\n",
       "    </tr>\n",
       "    <tr>\n",
       "      <th>1</th>\n",
       "      <td>1</td>\n",
       "      <td>28643</td>\n",
       "      <td>2021-05-11 21:12:24</td>\n",
       "    </tr>\n",
       "    <tr>\n",
       "      <th>2</th>\n",
       "      <td>2</td>\n",
       "      <td>77385</td>\n",
       "      <td>2021-05-12 09:26:39</td>\n",
       "    </tr>\n",
       "    <tr>\n",
       "      <th>3</th>\n",
       "      <td>3</td>\n",
       "      <td>552518</td>\n",
       "      <td>2021-04-07 23:02:18</td>\n",
       "    </tr>\n",
       "    <tr>\n",
       "      <th>4</th>\n",
       "      <td>4</td>\n",
       "      <td>421592</td>\n",
       "      <td>2021-05-11 11:29:14</td>\n",
       "    </tr>\n",
       "    <tr>\n",
       "      <th>...</th>\n",
       "      <td>...</td>\n",
       "      <td>...</td>\n",
       "      <td>...</td>\n",
       "    </tr>\n",
       "    <tr>\n",
       "      <th>587481</th>\n",
       "      <td>829386</td>\n",
       "      <td>809766</td>\n",
       "      <td>2021-05-12 12:57:34</td>\n",
       "    </tr>\n",
       "    <tr>\n",
       "      <th>587482</th>\n",
       "      <td>829390</td>\n",
       "      <td>573971</td>\n",
       "      <td>2021-05-12 12:59:00</td>\n",
       "    </tr>\n",
       "    <tr>\n",
       "      <th>587483</th>\n",
       "      <td>829393</td>\n",
       "      <td>389458</td>\n",
       "      <td>2021-05-12 12:57:33</td>\n",
       "    </tr>\n",
       "    <tr>\n",
       "      <th>587484</th>\n",
       "      <td>829397</td>\n",
       "      <td>19346</td>\n",
       "      <td>2021-05-12 13:01:17</td>\n",
       "    </tr>\n",
       "    <tr>\n",
       "      <th>587485</th>\n",
       "      <td>829403</td>\n",
       "      <td>289028</td>\n",
       "      <td>2021-05-12 13:03:38</td>\n",
       "    </tr>\n",
       "  </tbody>\n",
       "</table>\n",
       "<p>587486 rows × 3 columns</p>\n",
       "</div>"
      ],
      "text/plain": [
       "          user  item_id           timestamp\n",
       "0            0   223132 2021-05-10 21:38:12\n",
       "1            1    28643 2021-05-11 21:12:24\n",
       "2            2    77385 2021-05-12 09:26:39\n",
       "3            3   552518 2021-04-07 23:02:18\n",
       "4            4   421592 2021-05-11 11:29:14\n",
       "...        ...      ...                 ...\n",
       "587481  829386   809766 2021-05-12 12:57:34\n",
       "587482  829390   573971 2021-05-12 12:59:00\n",
       "587483  829393   389458 2021-05-12 12:57:33\n",
       "587484  829397    19346 2021-05-12 13:01:17\n",
       "587485  829403   289028 2021-05-12 13:03:38\n",
       "\n",
       "[587486 rows x 3 columns]"
      ]
     },
     "metadata": {},
     "output_type": "display_data"
    },
    {
     "name": "stdout",
     "output_type": "stream",
     "text": [
      "총 데이터 len : 587,486\n",
      "label | unique user 명수: 587,486\n",
      "label | unique item 개수: 118,623\n",
      "label | log 시작일시: 2021-02-11 13:06:10\n",
      "label | log 종료일시: 2021-05-12 13:03:41\n",
      "\n",
      "\n",
      "유저 별 아이템 클릭수 평균: 1.00\n",
      "유저 별 아이템 클릭수 중앙값: 1.0\n",
      "유저 별 아이템 클릭수 최대: 1\n",
      "유저 별 아이템 클릭수 최소: 1\n"
     ]
    }
   ],
   "source": [
    "#label \n",
    "display(test_user_label)\n",
    "\n",
    "print(f\"총 데이터 len : {len(test_user_label):,}\")\n",
    "print(f\"label | unique user 명수: {test_user_label.user.nunique():,}\")\n",
    "print(f\"label | unique item 개수: {test_user_label.item_id.nunique():,}\")\n",
    "print(f\"label | log 시작일시: {test_user_label[\"timestamp\"].min()}\")\n",
    "print(f\"label | log 종료일시: {test_user_label[\"timestamp\"].max()}\")\n",
    "\n",
    "## 각 유저의 인터렉션 횟수 분포\n",
    "test_label_item_count = test_user_label.user.value_counts()\n",
    "print(\"\\n\")\n",
    "print(f\"유저 별 아이템 클릭수 평균: {test_label_item_count.mean():.2f}\")\n",
    "print(f\"유저 별 아이템 클릭수 중앙값: {test_label_item_count.median()}\")\n",
    "print(f\"유저 별 아이템 클릭수 최대: {test_label_item_count.max()}\")\n",
    "print(f\"유저 별 아이템 클릭수 최소: {test_label_item_count.min()}\")"
   ]
  },
  {
   "cell_type": "code",
   "execution_count": 48,
   "metadata": {},
   "outputs": [
    {
     "data": {
      "text/html": [
       "<div>\n",
       "<style scoped>\n",
       "    .dataframe tbody tr th:only-of-type {\n",
       "        vertical-align: middle;\n",
       "    }\n",
       "\n",
       "    .dataframe tbody tr th {\n",
       "        vertical-align: top;\n",
       "    }\n",
       "\n",
       "    .dataframe thead th {\n",
       "        text-align: right;\n",
       "    }\n",
       "</style>\n",
       "<table border=\"1\" class=\"dataframe\">\n",
       "  <thead>\n",
       "    <tr style=\"text-align: right;\">\n",
       "      <th></th>\n",
       "      <th>user</th>\n",
       "      <th>item_id</th>\n",
       "      <th>timestamp</th>\n",
       "    </tr>\n",
       "  </thead>\n",
       "  <tbody>\n",
       "    <tr>\n",
       "      <th>0</th>\n",
       "      <td>0</td>\n",
       "      <td>766598</td>\n",
       "      <td>2021-05-05 22:05:21</td>\n",
       "    </tr>\n",
       "    <tr>\n",
       "      <th>1</th>\n",
       "      <td>0</td>\n",
       "      <td>65273</td>\n",
       "      <td>2021-05-05 22:08:52</td>\n",
       "    </tr>\n",
       "    <tr>\n",
       "      <th>2</th>\n",
       "      <td>0</td>\n",
       "      <td>580437</td>\n",
       "      <td>2021-05-05 22:11:15</td>\n",
       "    </tr>\n",
       "    <tr>\n",
       "      <th>3</th>\n",
       "      <td>0</td>\n",
       "      <td>773271</td>\n",
       "      <td>2021-05-05 22:15:48</td>\n",
       "    </tr>\n",
       "    <tr>\n",
       "      <th>4</th>\n",
       "      <td>0</td>\n",
       "      <td>580437</td>\n",
       "      <td>2021-05-07 21:47:50</td>\n",
       "    </tr>\n",
       "    <tr>\n",
       "      <th>...</th>\n",
       "      <td>...</td>\n",
       "      <td>...</td>\n",
       "      <td>...</td>\n",
       "    </tr>\n",
       "    <tr>\n",
       "      <th>7025329</th>\n",
       "      <td>829403</td>\n",
       "      <td>263005</td>\n",
       "      <td>2021-05-12 13:01:01</td>\n",
       "    </tr>\n",
       "    <tr>\n",
       "      <th>7025330</th>\n",
       "      <td>829403</td>\n",
       "      <td>335217</td>\n",
       "      <td>2021-05-12 13:01:28</td>\n",
       "    </tr>\n",
       "    <tr>\n",
       "      <th>7025331</th>\n",
       "      <td>829403</td>\n",
       "      <td>628847</td>\n",
       "      <td>2021-05-12 13:01:35</td>\n",
       "    </tr>\n",
       "    <tr>\n",
       "      <th>7025332</th>\n",
       "      <td>829403</td>\n",
       "      <td>537578</td>\n",
       "      <td>2021-05-12 13:02:33</td>\n",
       "    </tr>\n",
       "    <tr>\n",
       "      <th>7025333</th>\n",
       "      <td>829403</td>\n",
       "      <td>567048</td>\n",
       "      <td>2021-05-12 13:03:19</td>\n",
       "    </tr>\n",
       "  </tbody>\n",
       "</table>\n",
       "<p>7025334 rows × 3 columns</p>\n",
       "</div>"
      ],
      "text/plain": [
       "           user  item_id           timestamp\n",
       "0             0   766598 2021-05-05 22:05:21\n",
       "1             0    65273 2021-05-05 22:08:52\n",
       "2             0   580437 2021-05-05 22:11:15\n",
       "3             0   773271 2021-05-05 22:15:48\n",
       "4             0   580437 2021-05-07 21:47:50\n",
       "...         ...      ...                 ...\n",
       "7025329  829403   263005 2021-05-12 13:01:01\n",
       "7025330  829403   335217 2021-05-12 13:01:28\n",
       "7025331  829403   628847 2021-05-12 13:01:35\n",
       "7025332  829403   537578 2021-05-12 13:02:33\n",
       "7025333  829403   567048 2021-05-12 13:03:19\n",
       "\n",
       "[7025334 rows x 3 columns]"
      ]
     },
     "metadata": {},
     "output_type": "display_data"
    },
    {
     "name": "stdout",
     "output_type": "stream",
     "text": [
      "총 데이터 len: 7,025,334\n",
      "test | unique user 명수: 587,486\n",
      "test | unique item 개수: 522,005\n",
      "test | log 시작일시: 2021-02-11 13:03:43\n",
      "test | log 종료일시: 2021-05-12 13:03:27\n",
      "\n",
      "\n",
      "유저 별 아이템 클릭수 평균: 11.96\n",
      "유저 별 아이템 클릭수 중앙값: 12.0\n",
      "유저 별 아이템 클릭수 최대: 20\n",
      "유저 별 아이템 클릭수 최소: 2\n"
     ]
    }
   ],
   "source": [
    "display(test_user_seq_log)\n",
    "\n",
    "print(f\"총 데이터 len: {len(test_user_seq_log):,}\")\n",
    "print(f\"test | unique user 명수: {test_user_seq_log.user.nunique():,}\")\n",
    "print(f\"test | unique item 개수: {test_user_seq_log.item_id.nunique():,}\")\n",
    "print(f\"test | log 시작일시: {test_user_seq_log[\"timestamp\"].min()}\")\n",
    "print(f\"test | log 종료일시: {test_user_seq_log[\"timestamp\"].max()}\")\n",
    "\n",
    "## 각 유저의 인터렉션 횟수 분포\n",
    "test_user_item_count = test_user_seq_log.user.value_counts()\n",
    "print(\"\\n\")\n",
    "print(f\"유저 별 아이템 클릭수 평균: {test_user_item_count.mean():.2f}\")\n",
    "print(f\"유저 별 아이템 클릭수 중앙값: {test_user_item_count.median()}\")\n",
    "print(f\"유저 별 아이템 클릭수 최대: {test_user_item_count.max()}\")\n",
    "print(f\"유저 별 아이템 클릭수 최소: {test_user_item_count.min()}\")"
   ]
  },
  {
   "cell_type": "code",
   "execution_count": 28,
   "metadata": {},
   "outputs": [
    {
     "name": "stdout",
     "output_type": "stream",
     "text": [
      "403382\n"
     ]
    }
   ],
   "source": [
    "assert test_user_label.user.nunique() == test_user_seq_log.user.nunique() \n",
    "print(test_user_seq_log.item_id.nunique() - test_user_label.item_id.nunique())\n",
    "\n",
    "# label과 test의 unique user 명수 동일\n",
    "# label dataset의 unique item이 403382개 적음\n",
    "# 대다수의 user가 마지막으로 같은(비슷한) 아이템을 클릭했음을 확인 가능"
   ]
  },
  {
   "attachments": {},
   "cell_type": "markdown",
   "metadata": {},
   "source": [
    "# Train user Seq log"
   ]
  },
  {
   "cell_type": "code",
   "execution_count": 49,
   "metadata": {},
   "outputs": [
    {
     "name": "stdout",
     "output_type": "stream",
     "text": [
      "총 데이터 count: 32,134,199\n",
      "train | unique user 명수: 672,116\n",
      "train | unique item 개수: 943,402\n",
      "train | log 시작일시: 2021-02-11 13:03:42\n",
      "train | log 종료일시: 2021-05-12 13:03:27\n"
     ]
    }
   ],
   "source": [
    "# display(train_user_seq_log)\n",
    "print(f\"총 데이터 count: {len(train_user_seq_log):,}\")\n",
    "print(f\"train | unique user 명수: {train_user_seq_log.user.nunique():,}\")\n",
    "print(f\"train | unique item 개수: {train_user_seq_log.item_id.nunique():,}\")\n",
    "print(f\"train | log 시작일시: {train_user_seq_log[\"timestamp\"].min()}\")\n",
    "print(f\"train | log 종료일시: {train_user_seq_log[\"timestamp\"].max()}\")"
   ]
  },
  {
   "cell_type": "code",
   "execution_count": 30,
   "metadata": {},
   "outputs": [
    {
     "name": "stdout",
     "output_type": "stream",
     "text": [
      "train에만 존재하는 unique user 명수 : 84,630\n",
      "train의 중복 row 개수 : 3\n"
     ]
    }
   ],
   "source": [
    "assert train_user_seq_log.user.isna().sum() == 0 \n",
    "print(f\"train에만 존재하는 unique user 명수 : {train_user_seq_log.user.nunique() - test_user_seq_log.user.nunique():,}\")\n",
    "print(f\"train의 중복 row 개수 : {train_user_seq_log.duplicated().sum():,}\")"
   ]
  },
  {
   "cell_type": "code",
   "execution_count": 52,
   "metadata": {},
   "outputs": [
    {
     "data": {
      "image/png": "[encoded data removed]",
      "text/plain": [
       "<Figure size 1200x300 with 2 Axes>"
      ]
     },
     "metadata": {},
     "output_type": "display_data"
    },
    {
     "name": "stdout",
     "output_type": "stream",
     "text": [
      "유저 별 아이템 클릭수 평균: 47.81\n",
      "유저 별 아이템 클릭수 중앙값: 9.0\n",
      "유저 별 아이템 클릭수 최대: 32049\n",
      "유저 별 아이템 클릭수 최소: 2\n"
     ]
    }
   ],
   "source": [
    "## 각 유저의 인터렉션 횟수 분포\n",
    "train_user_item_count = train_user_seq_log.user.value_counts()\n",
    "\n",
    "\n",
    "plt.figure(figsize=(12,3))\n",
    "plt.subplot(1,2,1)\n",
    "train_user_item_count.hist(bins=20)\n",
    "plt.title(\"Item count per user\")\n",
    "\n",
    "plt.subplot(1,2,2)\n",
    "train_user_item_count.value_counts(normalize=True).sort_index().cumsum().plot()\n",
    "plt.title(\"Item count per user ECDF(under 200)\")\n",
    "plt.xlim(0,200)\n",
    "plt.grid()\n",
    "plt.show()\n",
    "\n",
    "print(f\"유저 별 아이템 클릭수 평균: {train_user_item_count.mean():.2f}\")\n",
    "print(f\"유저 별 아이템 클릭수 중앙값: {train_user_item_count.median()}\")\n",
    "print(f\"유저 별 아이템 클릭수 최대: {train_user_item_count.max()}\")\n",
    "print(f\"유저 별 아이템 클릭수 최소: {train_user_item_count.min()}\")\n",
    "\n",
    "# item count per user 그래프 해설:\n",
    "# 각 유저가 조회한 아이템 개수를 나타낸 히스토그램입니다.\n",
    "# bin=3 임에도 불구하고 소수의 헤비유저가 존재해 그래프가 일정 수준 이상으로 상세해지지 않는 현상을 보입니다.\n",
    "\n",
    "# item count per user ECDF(under 200) plot 해설 :  \n",
    "# ECDF는 데이터셋에서 관측된 각 값이 주어진 분포의 몇 퍼센트에 해당하는지 나타낸 그래프입니다. \n",
    "# 각 사용자별 아이템 개수가 200 이하인 경우에 대한 ECDF를 나타낸 그래프이며, \n",
    "# 각 x축의 값에 해당하는 y축 값은 해당 x축 값이 데이터셋에서 주어진 분포의 몇 퍼센트에 해당하는지를 나타냅니다.\n",
    "# 본 그래프에서는 유저 별 25개 정도의 아이템을 클릭했을 때가 서비스 안착 분기점임을 알 수 있습니다."
   ]
  },
  {
   "cell_type": "code",
   "execution_count": 51,
   "metadata": {},
   "outputs": [
    {
     "data": {
      "image/png": "[encoded data removed]",
      "text/plain": [
       "<Figure size 1200x300 with 2 Axes>"
      ]
     },
     "metadata": {},
     "output_type": "display_data"
    },
    {
     "name": "stdout",
     "output_type": "stream",
     "text": [
      "아이템 별 유저 조회수 평균: 34.06\n",
      "아이템 별 유저 조회수 중앙값: 1.0\n",
      "아이템 별 유저 조회수 최대: 34458\n",
      "아이템 별 유저 조회수 최소: 1\n"
     ]
    }
   ],
   "source": [
    "## 아이템 조회 횟수 분포\n",
    "train_item_user_count = train_user_seq_log.item_id.value_counts()\n",
    "\n",
    "plt.figure(figsize=(12,3))\n",
    "plt.subplot(1,2,1)\n",
    "train_item_user_count.hist(bins=20)\n",
    "plt.title(\"User count per item\")\n",
    "\n",
    "plt.subplot(1,2,2)\n",
    "train_item_user_count.value_counts(normalize=True).sort_index().cumsum().plot()\n",
    "plt.title(\"Item count per user ECDF(under 200)\")\n",
    "plt.xlim(0,200)\n",
    "plt.grid()\n",
    "plt.show()\n",
    "\n",
    "print(f\"아이템 별 유저 조회수 평균: {train_item_user_count.mean():.2f}\")\n",
    "print(f\"아이템 별 유저 조회수 중앙값: {train_item_user_count.median()}\")\n",
    "print(f\"아이템 별 유저 조회수 최대: {train_item_user_count.max()}\")\n",
    "print(f\"아이템 별 유저 조회수 최소: {train_item_user_count.min()}\")\n",
    "\n",
    "# item count per user 그래프 해설:\n",
    "# 각 아이템이 유저들에게 조회된 횟수를 나타낸 히스토그램입니다.\n",
    "# bin=3 임에도 불구하고 소수의 베스트셀러가 존재해 위 그래프와 같은 현상을 보입니다.\n",
    "\n",
    "# item count per user ECDF(under 200) plot 해설 :  \n",
    "# 조회된 횟수가 200 이하인 아이템에 대한 ECDF를 나타낸 그래프입니다. \n",
    "# 본 그래프에서는 아이템 별 25회 정도의 클릭이 있을 때부터 200회 클릭까지 비슷한 분포임을 알 수 있습니다."
   ]
  },
  {
   "cell_type": "code",
   "execution_count": 64,
   "metadata": {},
   "outputs": [
    {
     "name": "stdout",
     "output_type": "stream",
     "text": [
      "조회한 유저가 20명 이하인 아이템 수: 874,994(92.75%)\n"
     ]
    },
    {
     "data": {
      "text/html": [
       "<div>\n",
       "<style scoped>\n",
       "    .dataframe tbody tr th:only-of-type {\n",
       "        vertical-align: middle;\n",
       "    }\n",
       "\n",
       "    .dataframe tbody tr th {\n",
       "        vertical-align: top;\n",
       "    }\n",
       "\n",
       "    .dataframe thead th {\n",
       "        text-align: right;\n",
       "    }\n",
       "</style>\n",
       "<table border=\"1\" class=\"dataframe\">\n",
       "  <thead>\n",
       "    <tr style=\"text-align: right;\">\n",
       "      <th></th>\n",
       "      <th>click_user_count</th>\n",
       "      <th>item_count</th>\n",
       "    </tr>\n",
       "  </thead>\n",
       "  <tbody>\n",
       "    <tr>\n",
       "      <th>0</th>\n",
       "      <td>1</td>\n",
       "      <td>478607</td>\n",
       "    </tr>\n",
       "    <tr>\n",
       "      <th>1</th>\n",
       "      <td>2</td>\n",
       "      <td>150162</td>\n",
       "    </tr>\n",
       "    <tr>\n",
       "      <th>2</th>\n",
       "      <td>3</td>\n",
       "      <td>72418</td>\n",
       "    </tr>\n",
       "    <tr>\n",
       "      <th>3</th>\n",
       "      <td>4</td>\n",
       "      <td>43712</td>\n",
       "    </tr>\n",
       "    <tr>\n",
       "      <th>4</th>\n",
       "      <td>5</td>\n",
       "      <td>29169</td>\n",
       "    </tr>\n",
       "    <tr>\n",
       "      <th>5</th>\n",
       "      <td>6</td>\n",
       "      <td>20251</td>\n",
       "    </tr>\n",
       "    <tr>\n",
       "      <th>6</th>\n",
       "      <td>7</td>\n",
       "      <td>15283</td>\n",
       "    </tr>\n",
       "    <tr>\n",
       "      <th>7</th>\n",
       "      <td>8</td>\n",
       "      <td>11736</td>\n",
       "    </tr>\n",
       "    <tr>\n",
       "      <th>8</th>\n",
       "      <td>9</td>\n",
       "      <td>9360</td>\n",
       "    </tr>\n",
       "    <tr>\n",
       "      <th>9</th>\n",
       "      <td>10</td>\n",
       "      <td>7765</td>\n",
       "    </tr>\n",
       "    <tr>\n",
       "      <th>10</th>\n",
       "      <td>11</td>\n",
       "      <td>6405</td>\n",
       "    </tr>\n",
       "    <tr>\n",
       "      <th>11</th>\n",
       "      <td>12</td>\n",
       "      <td>5346</td>\n",
       "    </tr>\n",
       "    <tr>\n",
       "      <th>12</th>\n",
       "      <td>13</td>\n",
       "      <td>4576</td>\n",
       "    </tr>\n",
       "    <tr>\n",
       "      <th>13</th>\n",
       "      <td>14</td>\n",
       "      <td>3978</td>\n",
       "    </tr>\n",
       "    <tr>\n",
       "      <th>14</th>\n",
       "      <td>15</td>\n",
       "      <td>3538</td>\n",
       "    </tr>\n",
       "    <tr>\n",
       "      <th>15</th>\n",
       "      <td>16</td>\n",
       "      <td>3016</td>\n",
       "    </tr>\n",
       "    <tr>\n",
       "      <th>16</th>\n",
       "      <td>17</td>\n",
       "      <td>2756</td>\n",
       "    </tr>\n",
       "    <tr>\n",
       "      <th>17</th>\n",
       "      <td>18</td>\n",
       "      <td>2536</td>\n",
       "    </tr>\n",
       "    <tr>\n",
       "      <th>18</th>\n",
       "      <td>19</td>\n",
       "      <td>2270</td>\n",
       "    </tr>\n",
       "    <tr>\n",
       "      <th>19</th>\n",
       "      <td>20</td>\n",
       "      <td>2110</td>\n",
       "    </tr>\n",
       "  </tbody>\n",
       "</table>\n",
       "</div>"
      ],
      "text/plain": [
       "    click_user_count  item_count\n",
       "0                  1      478607\n",
       "1                  2      150162\n",
       "2                  3       72418\n",
       "3                  4       43712\n",
       "4                  5       29169\n",
       "5                  6       20251\n",
       "6                  7       15283\n",
       "7                  8       11736\n",
       "8                  9        9360\n",
       "9                 10        7765\n",
       "10                11        6405\n",
       "11                12        5346\n",
       "12                13        4576\n",
       "13                14        3978\n",
       "14                15        3538\n",
       "15                16        3016\n",
       "16                17        2756\n",
       "17                18        2536\n",
       "18                19        2270\n",
       "19                20        2110"
      ]
     },
     "metadata": {},
     "output_type": "display_data"
    }
   ],
   "source": [
    "threshold = 20\n",
    "items_with_few_user = train_item_user_count.value_counts().sort_index().head(threshold).reset_index()\n",
    "items_with_few_user.columns = [\"click_user_count\", \"item_count\"]\n",
    "total_item_count = train_user_seq_log.item_id.nunique()\n",
    "items_with_few_user_count = items_with_few_user.item_count.sum()\n",
    "\n",
    "print(f\"조회한 유저가 {threshold}명 이하인 아이템 수: {items_with_few_user_count:,}({items_with_few_user_count / total_item_count * 100:.2f}%)\")\n",
    "display(items_with_few_user)\n",
    "\n",
    "# 굉장히 클릭이 편중되어 있는 상황. 유저가 조회하는 인기품목이 정해져 있다. mp의 영향이 매우 강함."
   ]
  },
  {
   "cell_type": "code",
   "execution_count": 34,
   "metadata": {},
   "outputs": [
    {
     "name": "stdout",
     "output_type": "stream",
     "text": [
      "조회한 횟수가 상위 500에 드는 아이템 수: 518개(0.05%)\n",
      "상위 500개의 아이템이 만들어낸 조회수 : 5,987,690건(18.63%)\n"
     ]
    },
    {
     "data": {
      "text/html": [
       "<div>\n",
       "<style scoped>\n",
       "    .dataframe tbody tr th:only-of-type {\n",
       "        vertical-align: middle;\n",
       "    }\n",
       "\n",
       "    .dataframe tbody tr th {\n",
       "        vertical-align: top;\n",
       "    }\n",
       "\n",
       "    .dataframe thead th {\n",
       "        text-align: right;\n",
       "    }\n",
       "</style>\n",
       "<table border=\"1\" class=\"dataframe\">\n",
       "  <thead>\n",
       "    <tr style=\"text-align: right;\">\n",
       "      <th></th>\n",
       "      <th>click_user_count</th>\n",
       "      <th>item_count</th>\n",
       "    </tr>\n",
       "  </thead>\n",
       "  <tbody>\n",
       "    <tr>\n",
       "      <th>0</th>\n",
       "      <td>34458</td>\n",
       "      <td>1</td>\n",
       "    </tr>\n",
       "    <tr>\n",
       "      <th>1</th>\n",
       "      <td>32311</td>\n",
       "      <td>1</td>\n",
       "    </tr>\n",
       "    <tr>\n",
       "      <th>2</th>\n",
       "      <td>31680</td>\n",
       "      <td>1</td>\n",
       "    </tr>\n",
       "    <tr>\n",
       "      <th>3</th>\n",
       "      <td>27557</td>\n",
       "      <td>1</td>\n",
       "    </tr>\n",
       "    <tr>\n",
       "      <th>4</th>\n",
       "      <td>26943</td>\n",
       "      <td>1</td>\n",
       "    </tr>\n",
       "    <tr>\n",
       "      <th>...</th>\n",
       "      <td>...</td>\n",
       "      <td>...</td>\n",
       "    </tr>\n",
       "    <tr>\n",
       "      <th>495</th>\n",
       "      <td>7755</td>\n",
       "      <td>1</td>\n",
       "    </tr>\n",
       "    <tr>\n",
       "      <th>496</th>\n",
       "      <td>7747</td>\n",
       "      <td>1</td>\n",
       "    </tr>\n",
       "    <tr>\n",
       "      <th>497</th>\n",
       "      <td>7744</td>\n",
       "      <td>1</td>\n",
       "    </tr>\n",
       "    <tr>\n",
       "      <th>498</th>\n",
       "      <td>7740</td>\n",
       "      <td>1</td>\n",
       "    </tr>\n",
       "    <tr>\n",
       "      <th>499</th>\n",
       "      <td>7735</td>\n",
       "      <td>1</td>\n",
       "    </tr>\n",
       "  </tbody>\n",
       "</table>\n",
       "<p>500 rows × 2 columns</p>\n",
       "</div>"
      ],
      "text/plain": [
       "     click_user_count  item_count\n",
       "0               34458           1\n",
       "1               32311           1\n",
       "2               31680           1\n",
       "3               27557           1\n",
       "4               26943           1\n",
       "..                ...         ...\n",
       "495              7755           1\n",
       "496              7747           1\n",
       "497              7744           1\n",
       "498              7740           1\n",
       "499              7735           1\n",
       "\n",
       "[500 rows x 2 columns]"
      ]
     },
     "metadata": {},
     "output_type": "display_data"
    }
   ],
   "source": [
    "mp_threshold = 500\n",
    "items_with_user = train_item_user_count.value_counts().sort_index(ascending=False).head(mp_threshold).reset_index()\n",
    "items_with_user.columns = [\"click_user_count\", \"item_count\"]\n",
    "total_item_count = train_user_seq_log.item_id.nunique()\n",
    "items_with_user_count = items_with_user.item_count.sum()\n",
    "item_count_sum = items_with_user[\"click_user_count\"].sum()\n",
    "\n",
    "print(f\"조회한 횟수가 상위 {mp_threshold}에 드는 아이템 수: {items_with_user_count:,}개({items_with_user_count / total_item_count * 100:.2f}%)\")\n",
    "print(f\"상위 {mp_threshold}개의 아이템이 만들어낸 조회수 : {item_count_sum:,}건({item_count_sum / len(train_user_seq_log) * 100:.2f}%)\")\n",
    "display(items_with_user)"
   ]
  },
  {
   "cell_type": "code",
   "execution_count": 35,
   "metadata": {},
   "outputs": [
    {
     "name": "stdout",
     "output_type": "stream",
     "text": [
      "Density: 0.0001\n"
     ]
    }
   ],
   "source": [
    "Density = len(train_user_seq_log) / (train_user_seq_log.user.nunique() * train_user_seq_log.item_id.nunique())\n",
    "print(f\"Density: {Density:.4f}\")\n",
    "\n",
    "#  유저수*상품종류수(가능한 경우의 수)에 비해 로그 len 작음. \n",
    "#  결론 : 유저의 상품조회 폭이 작다.\n",
    "#  한 유저가 탐색하는 상품이 n개로 정해져 있고, 탐색 풀이 좁으며, 본 아이템들 중 계속 조회하는 아이템이 n개로 정해져 있다"
   ]
  },
  {
   "cell_type": "code",
   "execution_count": 36,
   "metadata": {},
   "outputs": [
    {
     "data": {
      "text/html": [
       "<div>\n",
       "<style scoped>\n",
       "    .dataframe tbody tr th:only-of-type {\n",
       "        vertical-align: middle;\n",
       "    }\n",
       "\n",
       "    .dataframe tbody tr th {\n",
       "        vertical-align: top;\n",
       "    }\n",
       "\n",
       "    .dataframe thead th {\n",
       "        text-align: right;\n",
       "    }\n",
       "</style>\n",
       "<table border=\"1\" class=\"dataframe\">\n",
       "  <thead>\n",
       "    <tr style=\"text-align: right;\">\n",
       "      <th></th>\n",
       "      <th>item_id</th>\n",
       "      <th>click_count</th>\n",
       "    </tr>\n",
       "  </thead>\n",
       "  <tbody>\n",
       "    <tr>\n",
       "      <th>item_id</th>\n",
       "      <td>1.0000</td>\n",
       "      <td>-0.0005</td>\n",
       "    </tr>\n",
       "    <tr>\n",
       "      <th>click_count</th>\n",
       "      <td>-0.0005</td>\n",
       "      <td>1.0000</td>\n",
       "    </tr>\n",
       "  </tbody>\n",
       "</table>\n",
       "</div>"
      ],
      "text/plain": [
       "             item_id  click_count\n",
       "item_id       1.0000      -0.0005\n",
       "click_count  -0.0005       1.0000"
      ]
     },
     "execution_count": 36,
     "metadata": {},
     "output_type": "execute_result"
    }
   ],
   "source": [
    "item_click_count = train_user_seq_log.groupby(\"item_id\").size().reset_index(name=\"click_count\").sort_values(by=\"click_count\")\n",
    "item_click_count.corr()\n",
    "\n",
    "#item number와 click count 사이에 유의미한 상관관계 없음\n",
    "\n",
    "# auto incremental을 고려한 가정 : 만약 오래된 아이템일수록 더 작은 item_id 넘버를 가진다면, 작은 숫자 id의 click 횟수가 훨씬 높을 수 있다\n",
    "# 그러나 위와 같은 가정은 전혀 적용되지 않는 것으로 판단됨."
   ]
  },
  {
   "attachments": {},
   "cell_type": "markdown",
   "metadata": {},
   "source": [
    "# item name table"
   ]
  },
  {
   "cell_type": "code",
   "execution_count": 58,
   "metadata": {},
   "outputs": [
    {
     "data": {
      "text/html": [
       "<div>\n",
       "<style scoped>\n",
       "    .dataframe tbody tr th:only-of-type {\n",
       "        vertical-align: middle;\n",
       "    }\n",
       "\n",
       "    .dataframe tbody tr th {\n",
       "        vertical-align: top;\n",
       "    }\n",
       "\n",
       "    .dataframe thead th {\n",
       "        text-align: right;\n",
       "    }\n",
       "</style>\n",
       "<table border=\"1\" class=\"dataframe\">\n",
       "  <thead>\n",
       "    <tr style=\"text-align: right;\">\n",
       "      <th></th>\n",
       "      <th>item_id</th>\n",
       "      <th>item_name</th>\n",
       "    </tr>\n",
       "  </thead>\n",
       "  <tbody>\n",
       "    <tr>\n",
       "      <th>0</th>\n",
       "      <td>0</td>\n",
       "      <td>DA 남자 빅사이즈 절개 맨투맨 절개 트레이닝팬츠 SET</td>\n",
       "    </tr>\n",
       "    <tr>\n",
       "      <th>1</th>\n",
       "      <td>1</td>\n",
       "      <td>텐피엠 [카시오] MTP-V005L 남성가죽시계+ 블랙 나토밴드.</td>\n",
       "    </tr>\n",
       "    <tr>\n",
       "      <th>2</th>\n",
       "      <td>2</td>\n",
       "      <td>[바보사랑]여성 옥스퍼드 로퍼-(주)태블리스</td>\n",
       "    </tr>\n",
       "    <tr>\n",
       "      <th>3</th>\n",
       "      <td>3</td>\n",
       "      <td>[해외][블랙모어스] 리프리놀/ 초록홍합 100캡슐 X 3</td>\n",
       "    </tr>\n",
       "    <tr>\n",
       "      <th>4</th>\n",
       "      <td>4</td>\n",
       "      <td>[백화점 SAY][크로커다일]경량덕 다운 점퍼(CL9WDW901)</td>\n",
       "    </tr>\n",
       "    <tr>\n",
       "      <th>...</th>\n",
       "      <td>...</td>\n",
       "      <td>...</td>\n",
       "    </tr>\n",
       "    <tr>\n",
       "      <th>970240</th>\n",
       "      <td>970240</td>\n",
       "      <td>접이식 벤치의자 스툴 스탠드 의자 홈바 인테리어 카페</td>\n",
       "    </tr>\n",
       "    <tr>\n",
       "      <th>970241</th>\n",
       "      <td>970241</td>\n",
       "      <td>[오너클랜]기획 신발정리대 소형 6단 1P 현관신발장 오픈신발장</td>\n",
       "    </tr>\n",
       "    <tr>\n",
       "      <th>970242</th>\n",
       "      <td>970242</td>\n",
       "      <td>[피우다][피우다 (PIUDA)] 여름바다 상자 3p 세트 (수납함/수납</td>\n",
       "    </tr>\n",
       "    <tr>\n",
       "      <th>970243</th>\n",
       "      <td>970243</td>\n",
       "      <td>[지큐][지큐/쿨제이][빅사이즈 추가] 모자이크 롱 숄 가디건</td>\n",
       "    </tr>\n",
       "    <tr>\n",
       "      <th>970244</th>\n",
       "      <td>970244</td>\n",
       "      <td>가바바 여성 빅사이즈 반팔 블라우스 단색의 컬러와 블랙 버튼으로 강조한 오피스룩 셔...</td>\n",
       "    </tr>\n",
       "  </tbody>\n",
       "</table>\n",
       "<p>970245 rows × 2 columns</p>\n",
       "</div>"
      ],
      "text/plain": [
       "        item_id                                          item_name\n",
       "0             0                    DA 남자 빅사이즈 절개 맨투맨 절개 트레이닝팬츠 SET\n",
       "1             1               텐피엠 [카시오] MTP-V005L 남성가죽시계+ 블랙 나토밴드.\n",
       "2             2                           [바보사랑]여성 옥스퍼드 로퍼-(주)태블리스\n",
       "3             3                   [해외][블랙모어스] 리프리놀/ 초록홍합 100캡슐 X 3\n",
       "4             4               [백화점 SAY][크로커다일]경량덕 다운 점퍼(CL9WDW901)\n",
       "...         ...                                                ...\n",
       "970240   970240                      접이식 벤치의자 스툴 스탠드 의자 홈바 인테리어 카페\n",
       "970241   970241                [오너클랜]기획 신발정리대 소형 6단 1P 현관신발장 오픈신발장\n",
       "970242   970242           [피우다][피우다 (PIUDA)] 여름바다 상자 3p 세트 (수납함/수납\n",
       "970243   970243                 [지큐][지큐/쿨제이][빅사이즈 추가] 모자이크 롱 숄 가디건\n",
       "970244   970244  가바바 여성 빅사이즈 반팔 블라우스 단색의 컬러와 블랙 버튼으로 강조한 오피스룩 셔...\n",
       "\n",
       "[970245 rows x 2 columns]"
      ]
     },
     "execution_count": 58,
     "metadata": {},
     "output_type": "execute_result"
    }
   ],
   "source": [
    "item_names_table"
   ]
  },
  {
   "cell_type": "code",
   "execution_count": 59,
   "metadata": {},
   "outputs": [
    {
     "name": "stdout",
     "output_type": "stream",
     "text": [
      "유니크한 item 수: 970,245\n",
      "train에서 조회되지 않은 아이템 수 : 26,843\n"
     ]
    }
   ],
   "source": [
    "uniq_item_count = item_names_table.item_id.nunique()\n",
    "print(f\"유니크한 item 수: {uniq_item_count:,}\")\n",
    "print(f\"train에서 조회되지 않은 아이템 수 : {uniq_item_count-train_user_seq_log.item_id.nunique():,}\")"
   ]
  },
  {
   "cell_type": "code",
   "execution_count": 60,
   "metadata": {},
   "outputs": [
    {
     "data": {
      "text/html": [
       "<div>\n",
       "<style scoped>\n",
       "    .dataframe tbody tr th:only-of-type {\n",
       "        vertical-align: middle;\n",
       "    }\n",
       "\n",
       "    .dataframe tbody tr th {\n",
       "        vertical-align: top;\n",
       "    }\n",
       "\n",
       "    .dataframe thead th {\n",
       "        text-align: right;\n",
       "    }\n",
       "</style>\n",
       "<table border=\"1\" class=\"dataframe\">\n",
       "  <thead>\n",
       "    <tr style=\"text-align: right;\">\n",
       "      <th></th>\n",
       "      <th>item_id</th>\n",
       "      <th>item_name</th>\n",
       "    </tr>\n",
       "  </thead>\n",
       "  <tbody>\n",
       "    <tr>\n",
       "      <th>722418</th>\n",
       "      <td>722418</td>\n",
       "      <td>21SS최신상 진심을담은 날씬핏 NEW 라삐아프 라이크라 와이드 데님3종</td>\n",
       "    </tr>\n",
       "  </tbody>\n",
       "</table>\n",
       "</div>"
      ],
      "text/plain": [
       "        item_id                                 item_name\n",
       "722418   722418  21SS최신상 진심을담은 날씬핏 NEW 라삐아프 라이크라 와이드 데님3종"
      ]
     },
     "metadata": {},
     "output_type": "display_data"
    },
    {
     "data": {
      "text/html": [
       "<div>\n",
       "<style scoped>\n",
       "    .dataframe tbody tr th:only-of-type {\n",
       "        vertical-align: middle;\n",
       "    }\n",
       "\n",
       "    .dataframe tbody tr th {\n",
       "        vertical-align: top;\n",
       "    }\n",
       "\n",
       "    .dataframe thead th {\n",
       "        text-align: right;\n",
       "    }\n",
       "</style>\n",
       "<table border=\"1\" class=\"dataframe\">\n",
       "  <thead>\n",
       "    <tr style=\"text-align: right;\">\n",
       "      <th></th>\n",
       "      <th>item_id</th>\n",
       "      <th>item_name</th>\n",
       "    </tr>\n",
       "  </thead>\n",
       "  <tbody>\n",
       "    <tr>\n",
       "      <th>813182</th>\n",
       "      <td>813182</td>\n",
       "      <td>브리엘 프릴넥 니트 4종</td>\n",
       "    </tr>\n",
       "  </tbody>\n",
       "</table>\n",
       "</div>"
      ],
      "text/plain": [
       "        item_id      item_name\n",
       "813182   813182  브리엘 프릴넥 니트 4종"
      ]
     },
     "metadata": {},
     "output_type": "display_data"
    },
    {
     "data": {
      "text/html": [
       "<div>\n",
       "<style scoped>\n",
       "    .dataframe tbody tr th:only-of-type {\n",
       "        vertical-align: middle;\n",
       "    }\n",
       "\n",
       "    .dataframe tbody tr th {\n",
       "        vertical-align: top;\n",
       "    }\n",
       "\n",
       "    .dataframe thead th {\n",
       "        text-align: right;\n",
       "    }\n",
       "</style>\n",
       "<table border=\"1\" class=\"dataframe\">\n",
       "  <thead>\n",
       "    <tr style=\"text-align: right;\">\n",
       "      <th></th>\n",
       "      <th>item_id</th>\n",
       "      <th>item_name</th>\n",
       "    </tr>\n",
       "  </thead>\n",
       "  <tbody>\n",
       "    <tr>\n",
       "      <th>589812</th>\n",
       "      <td>589812</td>\n",
       "      <td>브리엘 벨티드 리얼데님재킷</td>\n",
       "    </tr>\n",
       "  </tbody>\n",
       "</table>\n",
       "</div>"
      ],
      "text/plain": [
       "        item_id       item_name\n",
       "589812   589812  브리엘 벨티드 리얼데님재킷"
      ]
     },
     "metadata": {},
     "output_type": "display_data"
    },
    {
     "data": {
      "text/html": [
       "<div>\n",
       "<style scoped>\n",
       "    .dataframe tbody tr th:only-of-type {\n",
       "        vertical-align: middle;\n",
       "    }\n",
       "\n",
       "    .dataframe tbody tr th {\n",
       "        vertical-align: top;\n",
       "    }\n",
       "\n",
       "    .dataframe thead th {\n",
       "        text-align: right;\n",
       "    }\n",
       "</style>\n",
       "<table border=\"1\" class=\"dataframe\">\n",
       "  <thead>\n",
       "    <tr style=\"text-align: right;\">\n",
       "      <th></th>\n",
       "      <th>item_id</th>\n",
       "      <th>item_name</th>\n",
       "    </tr>\n",
       "  </thead>\n",
       "  <tbody>\n",
       "    <tr>\n",
       "      <th>803187</th>\n",
       "      <td>803187</td>\n",
       "      <td>[be+wants]비원츠 안티에이징 피토 글로우 톤업 크림 방송 패키지</td>\n",
       "    </tr>\n",
       "  </tbody>\n",
       "</table>\n",
       "</div>"
      ],
      "text/plain": [
       "        item_id                                item_name\n",
       "803187   803187  [be+wants]비원츠 안티에이징 피토 글로우 톤업 크림 방송 패키지"
      ]
     },
     "metadata": {},
     "output_type": "display_data"
    },
    {
     "data": {
      "text/html": [
       "<div>\n",
       "<style scoped>\n",
       "    .dataframe tbody tr th:only-of-type {\n",
       "        vertical-align: middle;\n",
       "    }\n",
       "\n",
       "    .dataframe tbody tr th {\n",
       "        vertical-align: top;\n",
       "    }\n",
       "\n",
       "    .dataframe thead th {\n",
       "        text-align: right;\n",
       "    }\n",
       "</style>\n",
       "<table border=\"1\" class=\"dataframe\">\n",
       "  <thead>\n",
       "    <tr style=\"text-align: right;\">\n",
       "      <th></th>\n",
       "      <th>item_id</th>\n",
       "      <th>item_name</th>\n",
       "    </tr>\n",
       "  </thead>\n",
       "  <tbody>\n",
       "    <tr>\n",
       "      <th>965347</th>\n",
       "      <td>965347</td>\n",
       "      <td>21년 봄 최신상, 여유있는 루즈한 핏과 드롭숄더, 필수컬러 조합 나인식스뉴욕 96...</td>\n",
       "    </tr>\n",
       "  </tbody>\n",
       "</table>\n",
       "</div>"
      ],
      "text/plain": [
       "        item_id                                          item_name\n",
       "965347   965347  21년 봄 최신상, 여유있는 루즈한 핏과 드롭숄더, 필수컬러 조합 나인식스뉴욕 96..."
      ]
     },
     "metadata": {},
     "output_type": "display_data"
    },
    {
     "data": {
      "text/html": [
       "<div>\n",
       "<style scoped>\n",
       "    .dataframe tbody tr th:only-of-type {\n",
       "        vertical-align: middle;\n",
       "    }\n",
       "\n",
       "    .dataframe tbody tr th {\n",
       "        vertical-align: top;\n",
       "    }\n",
       "\n",
       "    .dataframe thead th {\n",
       "        text-align: right;\n",
       "    }\n",
       "</style>\n",
       "<table border=\"1\" class=\"dataframe\">\n",
       "  <thead>\n",
       "    <tr style=\"text-align: right;\">\n",
       "      <th></th>\n",
       "      <th>item_id</th>\n",
       "      <th>item_name</th>\n",
       "    </tr>\n",
       "  </thead>\n",
       "  <tbody>\n",
       "    <tr>\n",
       "      <th>270167</th>\n",
       "      <td>270167</td>\n",
       "      <td>[국내생산/100매] 타스 새부리형 KF-94 마스크 블랙</td>\n",
       "    </tr>\n",
       "  </tbody>\n",
       "</table>\n",
       "</div>"
      ],
      "text/plain": [
       "        item_id                         item_name\n",
       "270167   270167  [국내생산/100매] 타스 새부리형 KF-94 마스크 블랙"
      ]
     },
     "metadata": {},
     "output_type": "display_data"
    }
   ],
   "source": [
    "# 가장 많이 조회된 아이템 top6\n",
    "\n",
    "display(item_names_table[item_names_table[\"item_id\"]==722418])\n",
    "display(item_names_table[item_names_table[\"item_id\"]==813182])\n",
    "display(item_names_table[item_names_table[\"item_id\"]==589812])\n",
    "display(item_names_table[item_names_table[\"item_id\"]==803187])\n",
    "display(item_names_table[item_names_table[\"item_id\"]==965347])\n",
    "display(item_names_table[item_names_table[\"item_id\"]==270167])"
   ]
  },
  {
   "attachments": {},
   "cell_type": "markdown",
   "metadata": {},
   "source": [
    "# Full Data 유저 행동경향 파악"
   ]
  },
  {
   "cell_type": "code",
   "execution_count": 3,
   "metadata": {},
   "outputs": [],
   "source": [
    "full_df = pd.concat([train_user_seq_log, test_user_seq_log, test_user_label], ignore_index=True).drop_duplicates()"
   ]
  },
  {
   "cell_type": "code",
   "execution_count": null,
   "metadata": {},
   "outputs": [],
   "source": [
    "# 일자별 click 집계\n",
    "full_df = full_df.assign(log_date = full_df.timestamp.dt.floor(\"D\"))\n",
    "\n",
    "full_df.timestamp.dt.floor(\"D\").value_counts().sort_index().plot(figsize=(15,6))\n",
    "plt.title(\"Daily log count\")\n",
    "plt.xlabel(\"Date\")\n",
    "plt.ylabel(\"History Log Count\")\n",
    "plt.show()"
   ]
  },
  {
   "cell_type": "code",
   "execution_count": null,
   "metadata": {},
   "outputs": [],
   "source": [
    "full_df.timestamp.min(), full_df.timestamp.max(), full_df.timestamp.nunique()"
   ]
  },
  {
   "attachments": {},
   "cell_type": "markdown",
   "metadata": {},
   "source": [
    "##  리텐션 비율 확인"
   ]
  },
  {
   "cell_type": "code",
   "execution_count": null,
   "metadata": {},
   "outputs": [],
   "source": [
    "def Revisit_rate(n, full_df):\n",
    "    df_nPlus = full_df.groupby(\"user\").filter(lambda x: x[\"timestamp\"].count() >= n)\n",
    "    df_nPlus1 = df_nPlus[df_nPlus.groupby([\"user\"])[\"timestamp\"].transform(\"count\") >= (n+1)]\n",
    "    ratio = df_nPlus1[\"user\"].nunique() / df_nPlus[\"user\"].nunique()\n",
    "\n",
    "    print(f\"{n}번 접속한 유저 중, {n+1}번 접속하는 유저 비율 : {round(ratio,2)}%\")"
   ]
  },
  {
   "cell_type": "code",
   "execution_count": null,
   "metadata": {},
   "outputs": [],
   "source": [
    "# %%time\n",
    "# Revisit_rate(9, full_df)  # eda로 확인한 중앙값 반영\n",
    "\n",
    "\"\"\"\n",
    "9번 접속한 유저 중, 10번 접속하는 유저 비율 : 0.94%\n",
    "\n",
    "1번 접속한 유저 중, 2번 접속하는 유저 비율 : 1.0%\n",
    "2번 접속한 유저 중, 3번 접속하는 유저 비율 : 0.87%\n",
    "3번 접속한 유저 중, 4번 접속하는 유저 비율 : 0.9%\n",
    "5번 접속한 유저 중, 6번 접속하는 유저 비율 : 0.92%\n",
    "7번 접속한 유저 중, 8번 접속하는 유저 비율 : 0.94%\n",
    "20번 접속한 유저 중, 21번 접속하는 유저 비율 : 0.97%\n",
    "\"\"\"\n",
    "# 일자로 집계한 유저 재방문 주기 (리텐션)은 높은 편"
   ]
  },
  {
   "attachments": {},
   "cell_type": "markdown",
   "metadata": {},
   "source": [
    "## 아이템 중복조회 경험이 있는 유저 비율"
   ]
  },
  {
   "cell_type": "code",
   "execution_count": 5,
   "metadata": {},
   "outputs": [
    {
     "name": "stdout",
     "output_type": "stream",
     "text": [
      "한 아이템을 2번 이상 조회한 경험이 있는 유저 비율 : 0.54%\n"
     ]
    }
   ],
   "source": [
    "reclick_users = full_df.groupby([\"user\", \"item_id\"])[\"timestamp\"].count().reset_index()\n",
    "reclick_users = reclick_users[reclick_users[\"timestamp\"] > 1]\n",
    "user_ratio =  reclick_users[\"user\"].nunique() / full_df[\"user\"].nunique()\n",
    "\n",
    "print(f\"한 아이템을 2번 이상 조회한 경험이 있는 유저 비율 : {round(user_ratio,2)}%\")"
   ]
  },
  {
   "cell_type": "code",
   "execution_count": 21,
   "metadata": {},
   "outputs": [
    {
     "name": "stdout",
     "output_type": "stream",
     "text": [
      "중복 조회 경험이 있는 유저들의 평균 재조회 횟수 : 2.72회\n"
     ]
    }
   ],
   "source": [
    "reclick_users2 = reclick_users[reclick_users[\"timestamp\"] > 1]\n",
    "reclick_count = reclick_users2[\"timestamp\"].mean()\n",
    "\n",
    "print(f\"중복 조회 경험이 있는 유저들의 평균 재조회 횟수 : {round(reclick_count,2)}회\")"
   ]
  },
  {
   "cell_type": "code",
   "execution_count": 23,
   "metadata": {},
   "outputs": [
    {
     "data": {
      "text/plain": [
       "count    4.616464e+06\n",
       "mean     2.724428e+00\n",
       "std      1.727283e+00\n",
       "min      2.000000e+00\n",
       "25%      2.000000e+00\n",
       "50%      2.000000e+00\n",
       "75%      3.000000e+00\n",
       "max      1.990000e+02\n",
       "Name: timestamp, dtype: float64"
      ]
     },
     "execution_count": 23,
     "metadata": {},
     "output_type": "execute_result"
    }
   ],
   "source": [
    "reclick_users[reclick_users[\"timestamp\"] > 1].describe()[\"timestamp\"]"
   ]
  }
 ],
 "metadata": {
  "kernelspec": {
   "display_name": "Python 3",
   "language": "python",
   "name": "python3"
  },
  "language_info": {
   "codemirror_mode": {
    "name": "ipython",
    "version": 3
   },
   "file_extension": ".py",
   "mimetype": "text/x-python",
   "name": "python",
   "nbconvert_exporter": "python",
   "pygments_lexer": "ipython3",
   "version": "3.10.5"
  },
  "orig_nbformat": 4,
  "vscode": {
   "interpreter": {
    "hash": "a31a978b9b36123e657517a00f2bc515935c5b3db5200b3f6166774c20a94c04"
   }
  }
 },
 "nbformat": 4,
 "nbformat_minor": 2
}
