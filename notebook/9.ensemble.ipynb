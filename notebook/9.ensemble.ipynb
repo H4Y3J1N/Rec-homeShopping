{
 "cells": [
  {
   "cell_type": "code",
   "execution_count": 1,
   "metadata": {},
   "outputs": [],
   "source": [
    "import sys\n",
    "sys.path.append(\"../src\")\n",
    "import pandas as pd\n",
    "import numpy as np\n",
    "from tqdm import tqdm\n",
    "import pickle\n",
    "import lightgbm as lgb\n",
    "from dataLoad import trainValidLoad\n",
    "from metric import ndcg_calculator, hit_at_k\n",
    "\n",
    "path= \"../dataset/\"\n",
    "train, train_valid, sample_sumbission = trainValidLoad(path)"
   ]
  },
  {
   "attachments": {},
   "cell_type": "markdown",
   "metadata": {},
   "source": [
    "--- LgbmRanker + ALS + MP + (Word2Vec) Ensemble      \n",
    "      \n",
    "feature :      \n",
    "*    datset - basic features from featureExtract      \n",
    "*    Mp - general most popular feature      \n",
    "*    ALS - user / item factor      \n",
    "<!-- *    Word2Vec - item segmentation       -->\n",
    "      \n",
    "candidate :      \n",
    "*    Mp  - general/recent weeks Most popular      \n",
    "<!-- *    Word2Vec - similar items       --> "
   ]
  },
  {
   "cell_type": "code",
   "execution_count": 2,
   "metadata": {},
   "outputs": [],
   "source": [
    "# load features\n",
    "\n",
    "general_MP_feature = pd.read_parquet(\"../output/general_MP_feature.parquet\")\n",
    "user_factor_als = pd.read_parquet(\"../output/user_factor_als.parquet\")\n",
    "item_factor_als = pd.read_parquet(\"../output/item_factor_als.parquet\")\n",
    "\n",
    "# load candidates\n",
    "recent30days_MP_candidate = pd.read_parquet(\"../output/recent30days_MP_candidate.parquet\")\n",
    "popular_items_cand = pd.read_parquet(\"../output/popular_items_cand.parquet\")"
   ]
  },
  {
   "cell_type": "code",
   "execution_count": 3,
   "metadata": {},
   "outputs": [
    {
     "name": "stdout",
     "output_type": "stream",
     "text": [
      "cand 데이터 수: 119636648\n",
      "cand nunique:  672116\n"
     ]
    }
   ],
   "source": [
    "candidate_1 = recent30days_MP_candidate\n",
    "candidate_2 = popular_items_cand\n",
    "candidate = [candidate_1, candidate_2]\n",
    "cand = pd.concat(candidate)\n",
    "cand.drop_duplicates(subset=[\"user\",\"item_id\"],inplace=True)\n",
    "\n",
    "print(\"cand 데이터 수:\",len(cand))\n",
    "print(\"cand nunique: \", cand.item_id.nunique())"
   ]
  },
  {
   "cell_type": "code",
   "execution_count": 9,
   "metadata": {},
   "outputs": [
    {
     "data": {
      "text/html": [
       "<div>\n",
       "<style scoped>\n",
       "    .dataframe tbody tr th:only-of-type {\n",
       "        vertical-align: middle;\n",
       "    }\n",
       "\n",
       "    .dataframe tbody tr th {\n",
       "        vertical-align: top;\n",
       "    }\n",
       "\n",
       "    .dataframe thead th {\n",
       "        text-align: right;\n",
       "    }\n",
       "</style>\n",
       "<table border=\"1\" class=\"dataframe\">\n",
       "  <thead>\n",
       "    <tr style=\"text-align: right;\">\n",
       "      <th></th>\n",
       "      <th>item_id</th>\n",
       "      <th>general_counts_ver1</th>\n",
       "      <th>general_counts_ver2</th>\n",
       "    </tr>\n",
       "  </thead>\n",
       "  <tbody>\n",
       "    <tr>\n",
       "      <th>0</th>\n",
       "      <td>145550</td>\n",
       "      <td>5718.0</td>\n",
       "      <td>2409.0</td>\n",
       "    </tr>\n",
       "    <tr>\n",
       "      <th>1</th>\n",
       "      <td>15188</td>\n",
       "      <td>5642.0</td>\n",
       "      <td>56.0</td>\n",
       "    </tr>\n",
       "    <tr>\n",
       "      <th>2</th>\n",
       "      <td>591848</td>\n",
       "      <td>5474.0</td>\n",
       "      <td>8294.0</td>\n",
       "    </tr>\n",
       "    <tr>\n",
       "      <th>3</th>\n",
       "      <td>212441</td>\n",
       "      <td>5224.0</td>\n",
       "      <td>7604.0</td>\n",
       "    </tr>\n",
       "    <tr>\n",
       "      <th>4</th>\n",
       "      <td>535897</td>\n",
       "      <td>5022.0</td>\n",
       "      <td>869.0</td>\n",
       "    </tr>\n",
       "    <tr>\n",
       "      <th>...</th>\n",
       "      <td>...</td>\n",
       "      <td>...</td>\n",
       "      <td>...</td>\n",
       "    </tr>\n",
       "    <tr>\n",
       "      <th>241303</th>\n",
       "      <td>403612</td>\n",
       "      <td>NaN</td>\n",
       "      <td>1.0</td>\n",
       "    </tr>\n",
       "    <tr>\n",
       "      <th>241304</th>\n",
       "      <td>403611</td>\n",
       "      <td>NaN</td>\n",
       "      <td>1.0</td>\n",
       "    </tr>\n",
       "    <tr>\n",
       "      <th>241305</th>\n",
       "      <td>403609</td>\n",
       "      <td>NaN</td>\n",
       "      <td>1.0</td>\n",
       "    </tr>\n",
       "    <tr>\n",
       "      <th>241306</th>\n",
       "      <td>403558</td>\n",
       "      <td>NaN</td>\n",
       "      <td>1.0</td>\n",
       "    </tr>\n",
       "    <tr>\n",
       "      <th>241307</th>\n",
       "      <td>970244</td>\n",
       "      <td>NaN</td>\n",
       "      <td>1.0</td>\n",
       "    </tr>\n",
       "  </tbody>\n",
       "</table>\n",
       "<p>241308 rows × 3 columns</p>\n",
       "</div>"
      ],
      "text/plain": [
       "        item_id  general_counts_ver1  general_counts_ver2\n",
       "0        145550               5718.0               2409.0\n",
       "1         15188               5642.0                 56.0\n",
       "2        591848               5474.0               8294.0\n",
       "3        212441               5224.0               7604.0\n",
       "4        535897               5022.0                869.0\n",
       "...         ...                  ...                  ...\n",
       "241303   403612                  NaN                  1.0\n",
       "241304   403611                  NaN                  1.0\n",
       "241305   403609                  NaN                  1.0\n",
       "241306   403558                  NaN                  1.0\n",
       "241307   970244                  NaN                  1.0\n",
       "\n",
       "[241308 rows x 3 columns]"
      ]
     },
     "execution_count": 9,
     "metadata": {},
     "output_type": "execute_result"
    }
   ],
   "source": [
    "general_MP_feature  # int, fillna"
   ]
  },
  {
   "cell_type": "code",
   "execution_count": 15,
   "metadata": {},
   "outputs": [],
   "source": [
    "# add feature \n",
    "candidate = pd.merge(cand, general_MP_feature, how=\"left\", on=\"item_id\")\n",
    "candidate_add_features = candidate.copy()\n",
    "\n",
    "# als vector merge\n",
    "candidate_add_features = pd.merge(candidate_add_features, item_factor_als, how=\"left\", on=\"item_id\")\n",
    "candidate_add_features = pd.merge(candidate_add_features, user_factor_als, how=\"left\", on=\"user\")\n",
    "\n",
    "print(\"cand 피처 수:\",len(candidate_add_features))"
   ]
  },
  {
   "cell_type": "code",
   "execution_count": null,
   "metadata": {},
   "outputs": [],
   "source": [
    "# 라벨 부여\n",
    "def label_create(candidate_add_features_df, label_df):\n",
    "    train = pd.merge(candidate_add_features_df, label_df, how=\"left\", on=[\"user\",\"item_id\"])\n",
    "    train[\"click_num\"] = train[\"click_num\"].fillna(0)\n",
    "    return train"
   ]
  },
  {
   "cell_type": "code",
   "execution_count": null,
   "metadata": {},
   "outputs": [],
   "source": [
    "train = label_create(candidate_add_features_df, label_df)"
   ]
  }
 ],
 "metadata": {
  "kernelspec": {
   "display_name": "Python 3",
   "language": "python",
   "name": "python3"
  },
  "language_info": {
   "codemirror_mode": {
    "name": "ipython",
    "version": 3
   },
   "file_extension": ".py",
   "mimetype": "text/x-python",
   "name": "python",
   "nbconvert_exporter": "python",
   "pygments_lexer": "ipython3",
   "version": "3.10.5"
  },
  "orig_nbformat": 4,
  "vscode": {
   "interpreter": {
    "hash": "a31a978b9b36123e657517a00f2bc515935c5b3db5200b3f6166774c20a94c04"
   }
  }
 },
 "nbformat": 4,
 "nbformat_minor": 2
}
