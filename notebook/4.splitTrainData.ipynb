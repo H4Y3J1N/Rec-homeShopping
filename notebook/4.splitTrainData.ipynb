{
 "cells": [
  {
   "cell_type": "code",
   "execution_count": 3,
   "metadata": {},
   "outputs": [],
   "source": [
    "import pandas as pd\n",
    "import numpy as np\n",
    "import matplotlib.pyplot as plt\n",
    "from tqdm import tqdm\n",
    "\n",
    "import sys\n",
    "sys.path.append(\"../src\")\n",
    "from dataLoad import dataLoad, fe_trainLoad"
   ]
  },
  {
   "cell_type": "code",
   "execution_count": 5,
   "metadata": {},
   "outputs": [],
   "source": [
    "path= \"../dataset/\"\n",
    "fe_train_user_seq_log = fe_trainLoad(path)"
   ]
  },
  {
   "cell_type": "code",
   "execution_count": 28,
   "metadata": {},
   "outputs": [],
   "source": [
    "train = fe_train_user_seq_log.copy()\n",
    "train_df = train.sort_values(by=\"timestamp\", ascending=False)\n",
    "train_valid = train_df.drop_duplicates(subset=\"user\", keep=\"first\") "
   ]
  },
  {
   "attachments": {},
   "cell_type": "markdown",
   "metadata": {},
   "source": [
    "- test - label처럼, train에서 가장 마지막 click 1개를 valid로 분리합니다.\n",
    "- eda 결과 유저별로 최소 2개의 click 데이터가 있으므로 2개 이상 떼어낼 시 train에서 유저가 사라지는 이슈가 생깁니다."
   ]
  },
  {
   "cell_type": "code",
   "execution_count": 4,
   "metadata": {},
   "outputs": [],
   "source": [
    "# 제거하는 작업\n",
    "train = train[~train.isin(train_valid)].dropna()"
   ]
  },
  {
   "cell_type": "code",
   "execution_count": 5,
   "metadata": {},
   "outputs": [],
   "source": [
    "## 데이터 유실 없는지 확인\n",
    "assert len(train) + len(train_valid) == len(fe_train_user_seq_log)\n",
    "\n",
    "## valid에는 유저 당 1개의 데이터만 들어가 있음\n",
    "assert (train_valid.user.value_counts() != 1).sum() == 0\n",
    "\n",
    "## 각 데이터 셋의 유저군이 동일함을 확인\n",
    "assert set(train.user) == set(train_valid.user)"
   ]
  },
  {
   "attachments": {},
   "cell_type": "markdown",
   "metadata": {},
   "source": [
    "- 각 유저에 대해 마지막 click 아이템을 분리했는데, 이때 valid에만 등장하는 아이템은 train에서 학습되지 않아 맞출 수가 없다\n",
    "- valid에만 있는 아이템은 train에 존재하지 않도록 샘플링"
   ]
  },
  {
   "cell_type": "code",
   "execution_count": 7,
   "metadata": {},
   "outputs": [
    {
     "name": "stdout",
     "output_type": "stream",
     "text": [
      "train에 있는 user/item만 valid에 남기기\n",
      "valid data size:672,116\n",
      "valid data size:85,675\n"
     ]
    }
   ],
   "source": [
    "print(\"train에 있는 user/item만 valid에 남기기\")\n",
    "\n",
    "print(f\"valid data size:{len(train_valid):,}\")\n",
    "train_valid = train_valid.merge(train[[\"user\",\"item_id\"]].drop_duplicates(), on=[\"user\",\"item_id\"])\n",
    "print(f\"valid data size:{len(train_valid):,}\")"
   ]
  },
  {
   "cell_type": "code",
   "execution_count": 8,
   "metadata": {},
   "outputs": [
    {
     "name": "stdout",
     "output_type": "stream",
     "text": [
      "valid에만 존재하는 아이템 수: 0개\n"
     ]
    }
   ],
   "source": [
    "## unique한 item 개수가 일치한지 확인\n",
    "train_missed_items2 = set(train_valid.item_id) - set(train.item_id)\n",
    "assert len(train_missed_items2) == 0\n",
    "\n",
    "print(f\"valid에만 존재하는 아이템 수: {len(train_missed_items2)}개\")"
   ]
  },
  {
   "cell_type": "code",
   "execution_count": 11,
   "metadata": {},
   "outputs": [
    {
     "name": "stdout",
     "output_type": "stream",
     "text": [
      "valid에만 존재하는 user 수: 0개\n"
     ]
    }
   ],
   "source": [
    "train_missed_users = set(train_valid.user) - set(train.user)\n",
    "print(f\"valid에만 존재하는 user 수: {len(train_missed_users)}명\")"
   ]
  },
  {
   "cell_type": "code",
   "execution_count": 12,
   "metadata": {},
   "outputs": [
    {
     "name": "stdout",
     "output_type": "stream",
     "text": [
      "train에만 존재하는 user 수: 586441명\n"
     ]
    }
   ],
   "source": [
    "valid_missed_users =  set(train.user) - set(train_valid.user)\n",
    "print(f\"train에만 존재하는 user 수: {len(valid_missed_users)}명\")"
   ]
  },
  {
   "cell_type": "code",
   "execution_count": 9,
   "metadata": {},
   "outputs": [],
   "source": [
    "sample_sumbission = train_valid.copy()\n",
    "sample_sumbission = sample_sumbission[[\"user\",\"item_id\"]].rename(columns={\"item_id\":\"predicted_list\"})\n",
    "sample_sumbission.item_id = [[]]*len(sample_sumbission)\n",
    "\n",
    "train_valid = train_valid[[\"user\",\"item_id\"]]"
   ]
  },
  {
   "cell_type": "code",
   "execution_count": 11,
   "metadata": {},
   "outputs": [],
   "source": [
    "train[\"user\"] = train[\"user\"].astype(int)\n",
    "train[\"item_id\"] = train[\"item_id\"].astype(int)\n",
    "train[\"day_of_week\"] = train[\"day_of_week\"].astype(int)\n",
    "train[\"days\"] = train[\"days\"].astype(int)\n",
    "train[\"hour\"] = train[\"hour\"].astype(int)\n",
    "train[\"weeks\"] = train[\"weeks\"].astype(int)\n",
    "train[\"cumcount\"] = train[\"cumcount\"].astype(int)\n",
    "train[\"click_count\"] = train[\"click_count\"].astype(int)\n",
    "train[\"user_click_count\"] = train[\"user_click_count\"].astype(int)"
   ]
  },
  {
   "cell_type": "code",
   "execution_count": 11,
   "metadata": {},
   "outputs": [
    {
     "ename": "NameError",
     "evalue": "name 'train' is not defined",
     "output_type": "error",
     "traceback": [
      "\u001b[1;31m---------------------------------------------------------------------------\u001b[0m",
      "\u001b[1;31mNameError\u001b[0m                                 Traceback (most recent call last)",
      "Cell \u001b[1;32mIn [11], line 1\u001b[0m\n\u001b[1;32m----> 1\u001b[0m train\u001b[39m.\u001b[39mto_parquet(\u001b[39m\"\u001b[39m\u001b[39m../dataset/train.parquet\u001b[39m\u001b[39m\"\u001b[39m)\n\u001b[0;32m      2\u001b[0m train_valid\u001b[39m.\u001b[39mto_parquet(\u001b[39m\"\u001b[39m\u001b[39m../dataset/train_valid.parquet\u001b[39m\u001b[39m\"\u001b[39m)\n\u001b[0;32m      3\u001b[0m sample_sumbission\u001b[39m.\u001b[39mto_parquet(\u001b[39m\"\u001b[39m\u001b[39m../dataset/sample_sumbission.parquet\u001b[39m\u001b[39m\"\u001b[39m)\n",
      "\u001b[1;31mNameError\u001b[0m: name 'train' is not defined"
     ]
    }
   ],
   "source": [
    "train.to_parquet(\"../dataset/train.parquet\")\n",
    "train_valid.to_parquet(\"../dataset/train_valid.parquet\")\n",
    "sample_sumbission.to_parquet(\"../dataset/sample_sumbission.parquet\")"
   ]
  },
  {
   "cell_type": "code",
   "execution_count": 12,
   "metadata": {},
   "outputs": [],
   "source": [
    "item_names_table, train_user_seq_log, test_user_label, test_user_seq_log = dataLoad(path)"
   ]
  },
  {
   "cell_type": "code",
   "execution_count": 17,
   "metadata": {},
   "outputs": [],
   "source": [
    "final_sumbission = test_user_label.copy()\n",
    "final_sumbission = final_sumbission[[\"user\",\"item_id\"]]\n",
    "final_sumbission.item_id = [[]]*len(final_sumbission)\n",
    "final_sumbission = final_sumbission.rename(columns={\"item_id\":\"predicted_list\"})"
   ]
  },
  {
   "cell_type": "code",
   "execution_count": 18,
   "metadata": {},
   "outputs": [
    {
     "data": {
      "text/html": [
       "<div>\n",
       "<style scoped>\n",
       "    .dataframe tbody tr th:only-of-type {\n",
       "        vertical-align: middle;\n",
       "    }\n",
       "\n",
       "    .dataframe tbody tr th {\n",
       "        vertical-align: top;\n",
       "    }\n",
       "\n",
       "    .dataframe thead th {\n",
       "        text-align: right;\n",
       "    }\n",
       "</style>\n",
       "<table border=\"1\" class=\"dataframe\">\n",
       "  <thead>\n",
       "    <tr style=\"text-align: right;\">\n",
       "      <th></th>\n",
       "      <th>user</th>\n",
       "      <th>predicted_list</th>\n",
       "    </tr>\n",
       "  </thead>\n",
       "  <tbody>\n",
       "    <tr>\n",
       "      <th>0</th>\n",
       "      <td>0</td>\n",
       "      <td>[]</td>\n",
       "    </tr>\n",
       "    <tr>\n",
       "      <th>1</th>\n",
       "      <td>1</td>\n",
       "      <td>[]</td>\n",
       "    </tr>\n",
       "    <tr>\n",
       "      <th>2</th>\n",
       "      <td>2</td>\n",
       "      <td>[]</td>\n",
       "    </tr>\n",
       "    <tr>\n",
       "      <th>3</th>\n",
       "      <td>3</td>\n",
       "      <td>[]</td>\n",
       "    </tr>\n",
       "    <tr>\n",
       "      <th>4</th>\n",
       "      <td>4</td>\n",
       "      <td>[]</td>\n",
       "    </tr>\n",
       "    <tr>\n",
       "      <th>...</th>\n",
       "      <td>...</td>\n",
       "      <td>...</td>\n",
       "    </tr>\n",
       "    <tr>\n",
       "      <th>587481</th>\n",
       "      <td>829386</td>\n",
       "      <td>[]</td>\n",
       "    </tr>\n",
       "    <tr>\n",
       "      <th>587482</th>\n",
       "      <td>829390</td>\n",
       "      <td>[]</td>\n",
       "    </tr>\n",
       "    <tr>\n",
       "      <th>587483</th>\n",
       "      <td>829393</td>\n",
       "      <td>[]</td>\n",
       "    </tr>\n",
       "    <tr>\n",
       "      <th>587484</th>\n",
       "      <td>829397</td>\n",
       "      <td>[]</td>\n",
       "    </tr>\n",
       "    <tr>\n",
       "      <th>587485</th>\n",
       "      <td>829403</td>\n",
       "      <td>[]</td>\n",
       "    </tr>\n",
       "  </tbody>\n",
       "</table>\n",
       "<p>587486 rows × 2 columns</p>\n",
       "</div>"
      ],
      "text/plain": [
       "          user predicted_list\n",
       "0            0             []\n",
       "1            1             []\n",
       "2            2             []\n",
       "3            3             []\n",
       "4            4             []\n",
       "...        ...            ...\n",
       "587481  829386             []\n",
       "587482  829390             []\n",
       "587483  829393             []\n",
       "587484  829397             []\n",
       "587485  829403             []\n",
       "\n",
       "[587486 rows x 2 columns]"
      ]
     },
     "execution_count": 18,
     "metadata": {},
     "output_type": "execute_result"
    }
   ],
   "source": [
    "final_sumbission"
   ]
  },
  {
   "cell_type": "code",
   "execution_count": 19,
   "metadata": {},
   "outputs": [],
   "source": [
    "final_sumbission.to_parquet(\"../dataset/final_sumbission.parquet\")"
   ]
  },
  {
   "cell_type": "code",
   "execution_count": null,
   "metadata": {},
   "outputs": [],
   "source": []
  }
 ],
 "metadata": {
  "kernelspec": {
   "display_name": "Python 3",
   "language": "python",
   "name": "python3"
  },
  "language_info": {
   "codemirror_mode": {
    "name": "ipython",
    "version": 3
   },
   "file_extension": ".py",
   "mimetype": "text/x-python",
   "name": "python",
   "nbconvert_exporter": "python",
   "pygments_lexer": "ipython3",
   "version": "3.10.5"
  },
  "orig_nbformat": 4,
  "vscode": {
   "interpreter": {
    "hash": "a31a978b9b36123e657517a00f2bc515935c5b3db5200b3f6166774c20a94c04"
   }
  }
 },
 "nbformat": 4,
 "nbformat_minor": 2
}
