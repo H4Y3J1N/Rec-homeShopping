{
 "cells": [
  {
   "cell_type": "code",
   "execution_count": 2,
   "metadata": {},
   "outputs": [],
   "source": [
    "import sys\n",
    "sys.path.append(\"../src\")\n",
    "from dataLoad import dataLoad, fe_trainLoad\n",
    "\n",
    "import numpy as np\n",
    "import pandas as pd\n",
    "import matplotlib.pyplot as plt\n",
    "\n",
    "from tqdm import tqdm\n",
    "import gc\n",
    "import tensorflow as tf\n",
    "from tensorflow import keras\n",
    "from tensorflow.keras import layers\n",
    "from sklearn.model_selection import train_test_split\n"
   ]
  },
  {
   "cell_type": "code",
   "execution_count": 3,
   "metadata": {},
   "outputs": [],
   "source": [
    "path= \"../dataset/\"\n",
    "item_names_table, train_user_seq_log, test_user_label, test_user_seq_log = dataLoad(path)\n",
    "fe_train_user_seq_log = fe_trainLoad(path)"
   ]
  },
  {
   "cell_type": "code",
   "execution_count": 4,
   "metadata": {},
   "outputs": [],
   "source": [
    "COLUMNS = [\n",
    "    \"user\",\n",
    "    \"item_id\",\n",
    "    \"day_of_week\",\n",
    "    \"days\",\n",
    "    \"hour\",\n",
    "    \"weeks\",\n",
    "    # \"cumcount\",\n",
    "    # \"click_count_normalized\",\n",
    "    # \"user_click_count_normalized\"\n",
    "]\n",
    "N_SAMPLES = 500000\n",
    "\n",
    "transactions = fe_train_user_seq_log.iloc[:N_SAMPLES]#.merge(item_names_table, on = (\"item_id\"))[COLUMNS]"
   ]
  },
  {
   "cell_type": "code",
   "execution_count": 5,
   "metadata": {},
   "outputs": [
    {
     "data": {
      "text/plain": [
       "37959"
      ]
     },
     "execution_count": 5,
     "metadata": {},
     "output_type": "execute_result"
    }
   ],
   "source": [
    "transactions.item_id.nunique()"
   ]
  },
  {
   "cell_type": "code",
   "execution_count": 6,
   "metadata": {},
   "outputs": [],
   "source": [
    "ids = np.arange(transactions.item_id.nunique())\n",
    "# shuffling to prevent any correlation between new labels and outcome\n",
    "np.random.shuffle(ids)"
   ]
  },
  {
   "cell_type": "code",
   "execution_count": 7,
   "metadata": {},
   "outputs": [],
   "source": [
    "# mapping article id to integer encoding \n",
    "map_item_id = {i:j for i, j in zip(transactions.item_id.unique(), ids)}"
   ]
  },
  {
   "cell_type": "code",
   "execution_count": 8,
   "metadata": {},
   "outputs": [
    {
     "name": "stderr",
     "output_type": "stream",
     "text": [
      "C:\\Users\\wikid\\AppData\\Local\\Temp\\ipykernel_4868\\3727386620.py:1: SettingWithCopyWarning: \n",
      "A value is trying to be set on a copy of a slice from a DataFrame.\n",
      "Try using .loc[row_indexer,col_indexer] = value instead\n",
      "\n",
      "See the caveats in the documentation: https://pandas.pydata.org/pandas-docs/stable/user_guide/indexing.html#returning-a-view-versus-a-copy\n",
      "  transactions['item_map'] = transactions['item_id'].map(map_item_id)\n"
     ]
    }
   ],
   "source": [
    "transactions[\"item_map\"] = transactions[\"item_id\"].map(map_item_id)"
   ]
  },
  {
   "cell_type": "code",
   "execution_count": 10,
   "metadata": {},
   "outputs": [
    {
     "data": {
      "text/html": [
       "<div>\n",
       "<style scoped>\n",
       "    .dataframe tbody tr th:only-of-type {\n",
       "        vertical-align: middle;\n",
       "    }\n",
       "\n",
       "    .dataframe tbody tr th {\n",
       "        vertical-align: top;\n",
       "    }\n",
       "\n",
       "    .dataframe thead th {\n",
       "        text-align: right;\n",
       "    }\n",
       "</style>\n",
       "<table border=\"1\" class=\"dataframe\">\n",
       "  <thead>\n",
       "    <tr style=\"text-align: right;\">\n",
       "      <th></th>\n",
       "      <th>user</th>\n",
       "      <th>item_id</th>\n",
       "      <th>timestamp</th>\n",
       "      <th>day_of_week</th>\n",
       "      <th>days</th>\n",
       "      <th>hour</th>\n",
       "      <th>weeks</th>\n",
       "      <th>cumcount</th>\n",
       "      <th>click_count</th>\n",
       "      <th>click_count_normalized</th>\n",
       "      <th>user_click_count</th>\n",
       "      <th>user_click_count_normalized</th>\n",
       "      <th>item_map</th>\n",
       "    </tr>\n",
       "  </thead>\n",
       "  <tbody>\n",
       "    <tr>\n",
       "      <th>0</th>\n",
       "      <td>0</td>\n",
       "      <td>805696</td>\n",
       "      <td>2021-02-11 13:03:42</td>\n",
       "      <td>3</td>\n",
       "      <td>0</td>\n",
       "      <td>13</td>\n",
       "      <td>1</td>\n",
       "      <td>1</td>\n",
       "      <td>3435</td>\n",
       "      <td>0.099660</td>\n",
       "      <td>1714</td>\n",
       "      <td>0.053422</td>\n",
       "      <td>4702</td>\n",
       "    </tr>\n",
       "    <tr>\n",
       "      <th>1</th>\n",
       "      <td>0</td>\n",
       "      <td>386903</td>\n",
       "      <td>2021-02-11 13:03:52</td>\n",
       "      <td>3</td>\n",
       "      <td>0</td>\n",
       "      <td>13</td>\n",
       "      <td>1</td>\n",
       "      <td>1</td>\n",
       "      <td>561</td>\n",
       "      <td>0.016252</td>\n",
       "      <td>1714</td>\n",
       "      <td>0.053422</td>\n",
       "      <td>22602</td>\n",
       "    </tr>\n",
       "    <tr>\n",
       "      <th>2</th>\n",
       "      <td>0</td>\n",
       "      <td>386903</td>\n",
       "      <td>2021-02-12 13:41:36</td>\n",
       "      <td>4</td>\n",
       "      <td>1</td>\n",
       "      <td>13</td>\n",
       "      <td>1</td>\n",
       "      <td>2</td>\n",
       "      <td>561</td>\n",
       "      <td>0.016252</td>\n",
       "      <td>1714</td>\n",
       "      <td>0.053422</td>\n",
       "      <td>22602</td>\n",
       "    </tr>\n",
       "    <tr>\n",
       "      <th>3</th>\n",
       "      <td>0</td>\n",
       "      <td>3832</td>\n",
       "      <td>2021-02-11 13:04:07</td>\n",
       "      <td>3</td>\n",
       "      <td>0</td>\n",
       "      <td>13</td>\n",
       "      <td>1</td>\n",
       "      <td>1</td>\n",
       "      <td>15941</td>\n",
       "      <td>0.462606</td>\n",
       "      <td>1714</td>\n",
       "      <td>0.053422</td>\n",
       "      <td>637</td>\n",
       "    </tr>\n",
       "    <tr>\n",
       "      <th>4</th>\n",
       "      <td>0</td>\n",
       "      <td>3832</td>\n",
       "      <td>2021-02-12 08:33:29</td>\n",
       "      <td>4</td>\n",
       "      <td>1</td>\n",
       "      <td>8</td>\n",
       "      <td>1</td>\n",
       "      <td>2</td>\n",
       "      <td>15941</td>\n",
       "      <td>0.462606</td>\n",
       "      <td>1714</td>\n",
       "      <td>0.053422</td>\n",
       "      <td>637</td>\n",
       "    </tr>\n",
       "  </tbody>\n",
       "</table>\n",
       "</div>"
      ],
      "text/plain": [
       "   user  item_id           timestamp  day_of_week  days  hour  weeks  \\\n",
       "0     0   805696 2021-02-11 13:03:42            3     0    13      1   \n",
       "1     0   386903 2021-02-11 13:03:52            3     0    13      1   \n",
       "2     0   386903 2021-02-12 13:41:36            4     1    13      1   \n",
       "3     0     3832 2021-02-11 13:04:07            3     0    13      1   \n",
       "4     0     3832 2021-02-12 08:33:29            4     1     8      1   \n",
       "\n",
       "   cumcount  click_count  click_count_normalized  user_click_count  \\\n",
       "0         1         3435                0.099660              1714   \n",
       "1         1          561                0.016252              1714   \n",
       "2         2          561                0.016252              1714   \n",
       "3         1        15941                0.462606              1714   \n",
       "4         2        15941                0.462606              1714   \n",
       "\n",
       "   user_click_count_normalized  item_map  \n",
       "0                     0.053422      4702  \n",
       "1                     0.053422     22602  \n",
       "2                     0.053422     22602  \n",
       "3                     0.053422       637  \n",
       "4                     0.053422       637  "
      ]
     },
     "execution_count": 10,
     "metadata": {},
     "output_type": "execute_result"
    }
   ],
   "source": [
    "transactions.head()"
   ]
  },
  {
   "cell_type": "code",
   "execution_count": 11,
   "metadata": {},
   "outputs": [],
   "source": [
    "transactions_train = transactions.groupby(\"user\").agg({\"item_map\":lambda x: list(x)})"
   ]
  },
  {
   "cell_type": "code",
   "execution_count": 12,
   "metadata": {},
   "outputs": [
    {
     "data": {
      "text/html": [
       "<div>\n",
       "<style scoped>\n",
       "    .dataframe tbody tr th:only-of-type {\n",
       "        vertical-align: middle;\n",
       "    }\n",
       "\n",
       "    .dataframe tbody tr th {\n",
       "        vertical-align: top;\n",
       "    }\n",
       "\n",
       "    .dataframe thead th {\n",
       "        text-align: right;\n",
       "    }\n",
       "</style>\n",
       "<table border=\"1\" class=\"dataframe\">\n",
       "  <thead>\n",
       "    <tr style=\"text-align: right;\">\n",
       "      <th></th>\n",
       "      <th>item_map</th>\n",
       "    </tr>\n",
       "    <tr>\n",
       "      <th>user</th>\n",
       "      <th></th>\n",
       "    </tr>\n",
       "  </thead>\n",
       "  <tbody>\n",
       "    <tr>\n",
       "      <th>0</th>\n",
       "      <td>[4702, 22602, 22602, 637, 637, 637, 637, 637, ...</td>\n",
       "    </tr>\n",
       "    <tr>\n",
       "      <th>25</th>\n",
       "      <td>[4702, 637, 33418, 16416, 16416, 23023, 23023,...</td>\n",
       "    </tr>\n",
       "    <tr>\n",
       "      <th>29</th>\n",
       "      <td>[4702, 22602, 16416, 33706, 26961, 26961, 3427...</td>\n",
       "    </tr>\n",
       "    <tr>\n",
       "      <th>43</th>\n",
       "      <td>[4702, 15908, 33706, 33706, 26961, 32769, 7111...</td>\n",
       "    </tr>\n",
       "    <tr>\n",
       "      <th>54</th>\n",
       "      <td>[4702, 637, 637, 637, 33418, 15908, 15908, 159...</td>\n",
       "    </tr>\n",
       "  </tbody>\n",
       "</table>\n",
       "</div>"
      ],
      "text/plain": [
       "                                               item_map\n",
       "user                                                   \n",
       "0     [4702, 22602, 22602, 637, 637, 637, 637, 637, ...\n",
       "25    [4702, 637, 33418, 16416, 16416, 23023, 23023,...\n",
       "29    [4702, 22602, 16416, 33706, 26961, 26961, 3427...\n",
       "43    [4702, 15908, 33706, 33706, 26961, 32769, 7111...\n",
       "54    [4702, 637, 637, 637, 33418, 15908, 15908, 159..."
      ]
     },
     "execution_count": 12,
     "metadata": {},
     "output_type": "execute_result"
    }
   ],
   "source": [
    "transactions_train.head()"
   ]
  },
  {
   "cell_type": "code",
   "execution_count": 13,
   "metadata": {},
   "outputs": [
    {
     "data": {
      "text/plain": [
       "array([[    0,     0,     0, ..., 21345, 35679, 13956],\n",
       "       [    0,     0,     0, ...,  2992, 29781, 37039],\n",
       "       [    0,     0,     0, ..., 20547, 20547, 20547],\n",
       "       ...,\n",
       "       [    0,     0,     0, ...,  6717, 24520, 15676],\n",
       "       [    0,     0,     0, ..., 27775, 21775, 29049],\n",
       "       [    0,     0,     0, ..., 10178, 33259, 18530]])"
      ]
     },
     "execution_count": 13,
     "metadata": {},
     "output_type": "execute_result"
    }
   ],
   "source": [
    "# Padding to make all lists of same size \n",
    "length = max(map(len, transactions_train.item_map))\n",
    "X = np.asarray([[0]*(length-len(xi)) + xi for xi in transactions_train.item_map]).astype(\"int32\")\n",
    "X"
   ]
  },
  {
   "cell_type": "code",
   "execution_count": 17,
   "metadata": {},
   "outputs": [
    {
     "data": {
      "text/plain": [
       "(265, 19833)"
      ]
     },
     "execution_count": 17,
     "metadata": {},
     "output_type": "execute_result"
    }
   ],
   "source": [
    "X_train, X_val, y_label_train, y_val_train = train_test_split(X[:,:-1], X[:, -1], test_size=0.2, shuffle=True, random_state=42)\n",
    "y_train = tf.keras.utils.to_categorical(y_label_train, num_classes=transactions.item_id.nunique())\n",
    "# onehot encoding on labels corresponding to num_classes\n",
    "y_val = tf.keras.utils.to_categorical(y_val_train, num_classes=transactions.item_id.nunique())\n",
    "X_train.shape"
   ]
  },
  {
   "cell_type": "code",
   "execution_count": 18,
   "metadata": {},
   "outputs": [
    {
     "data": {
      "text/plain": [
       "164"
      ]
     },
     "execution_count": 18,
     "metadata": {},
     "output_type": "execute_result"
    }
   ],
   "source": [
    "gc.collect()"
   ]
  },
  {
   "cell_type": "code",
   "execution_count": 19,
   "metadata": {},
   "outputs": [],
   "source": [
    "# BASIC Bidirectional-LSTM Model Architecture\n",
    "\n",
    "model = tf.keras.Sequential()\n",
    "# Adding an Embbeding Layer\n",
    "model.add(layers.Embedding(transactions.item_id.nunique(), 20, input_length=X_train.shape[1]))\n",
    "model.add(layers.Bidirectional(layers.LSTM(64, dropout=0.2)))\n",
    "model.add(layers.Dense(transactions.item_id.nunique(), activation=\"softmax\"))"
   ]
  },
  {
   "cell_type": "code",
   "execution_count": 20,
   "metadata": {},
   "outputs": [
    {
     "name": "stdout",
     "output_type": "stream",
     "text": [
      "Model: \"sequential\"\n",
      "_________________________________________________________________\n",
      " Layer (type)                Output Shape              Param #   \n",
      "=================================================================\n",
      " embedding (Embedding)       (None, 19833, 20)         759180    \n",
      "                                                                 \n",
      " bidirectional (Bidirectiona  (None, 128)              43520     \n",
      " l)                                                              \n",
      "                                                                 \n",
      " dense (Dense)               (None, 37959)             4896711   \n",
      "                                                                 \n",
      "=================================================================\n",
      "Total params: 5,699,411\n",
      "Trainable params: 5,699,411\n",
      "Non-trainable params: 0\n",
      "_________________________________________________________________\n"
     ]
    }
   ],
   "source": [
    "model.summary()"
   ]
  },
  {
   "cell_type": "code",
   "execution_count": 21,
   "metadata": {},
   "outputs": [],
   "source": [
    "from tensorflow.keras.optimizers import RMSprop, Adam\n",
    "\n",
    "optimizer = Adam(learning_rate=0.01)\n",
    "model.compile(loss=\"categorical_crossentropy\", optimizer=optimizer, metrics=[\"accuracy\"])"
   ]
  },
  {
   "cell_type": "code",
   "execution_count": 22,
   "metadata": {},
   "outputs": [
    {
     "name": "stdout",
     "output_type": "stream",
     "text": [
      "Epoch 1/3\n"
     ]
    }
   ],
   "source": [
    "history = model.fit(X_train, y_train, epochs=3, validation_data=(X_val, y_val), verbose=2, batch_size=64)\n",
    "model.save(\"./model1.h5\")"
   ]
  },
  {
   "cell_type": "code",
   "execution_count": null,
   "metadata": {},
   "outputs": [],
   "source": [
    "fig, (ax1, ax2) = plt.subplots(1, 2, figsize=(15, 7))\n",
    "ax1.plot(history.history[\"accuracy\"])\n",
    "ax2.plot(history.history[\"loss\"], color=\"Orange\")\n",
    "# plt.plot(history.history[\"val_acc\"])\n",
    "# plt.title(\"model accuracy\")\n",
    "# plt.ylabel(\"accuracy\")\n",
    "ax2.set_xlabel(\"epoch\")\n",
    "ax1.set_ylabel(\"accuracy\")\n",
    "ax2.set_ylabel(\"loss\")\n",
    "ax1.set_title(\"Train Accuracy/Epoch\")\n",
    "ax2.set_title(\"Train Loss/Epoch\")\n",
    "\n",
    "\n",
    "plt.show()"
   ]
  }
 ],
 "metadata": {
  "kernelspec": {
   "display_name": "Python 3",
   "language": "python",
   "name": "python3"
  },
  "language_info": {
   "codemirror_mode": {
    "name": "ipython",
    "version": 3
   },
   "file_extension": ".py",
   "mimetype": "text/x-python",
   "name": "python",
   "nbconvert_exporter": "python",
   "pygments_lexer": "ipython3",
   "version": "3.10.5"
  },
  "orig_nbformat": 4,
  "vscode": {
   "interpreter": {
    "hash": "a31a978b9b36123e657517a00f2bc515935c5b3db5200b3f6166774c20a94c04"
   }
  }
 },
 "nbformat": 4,
 "nbformat_minor": 2
}
