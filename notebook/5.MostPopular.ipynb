{
 "cells": [
  {
   "cell_type": "code",
   "execution_count": 1,
   "metadata": {},
   "outputs": [],
   "source": [
    "import sys\n",
    "sys.path.append(\"../src\")\n",
    "import pandas as pd\n",
    "import surprise\n",
    "import matplotlib.pyplot as plt\n",
    "from tqdm import tqdm\n",
    "from dataLoad import trainValidLoad\n",
    "from metric import ndcg_calculator, hit_at_k\n",
    "\n",
    "path= \"../dataset/\"\n",
    "train, train_valid, sample_sumbission = trainValidLoad(path)"
   ]
  },
  {
   "cell_type": "code",
   "execution_count": 2,
   "metadata": {},
   "outputs": [],
   "source": [
    "n = 10"
   ]
  },
  {
   "cell_type": "code",
   "execution_count": 3,
   "metadata": {},
   "outputs": [],
   "source": [
    "mp = train.item_id.value_counts().head(n).index\n",
    "mp_unique = train.groupby(\"item_id\").user.nunique().nlargest(n).index\n",
    "\n",
    "#가장 많이 조회된 item(train에서 가장 자주 나타나는 item)\n",
    "mp_submission = sample_sumbission.copy()\n",
    "mp_submission.item_id = [mp.values.tolist()]*len(sample_sumbission)\n",
    "\n",
    "# 가장 많은 unique user가 조회한 item\n",
    "mp_unique_submission = sample_sumbission.copy() \n",
    "mp_unique_submission.item_id = [mp_unique.values.tolist()]*len(sample_sumbission)"
   ]
  },
  {
   "cell_type": "code",
   "execution_count": 4,
   "metadata": {},
   "outputs": [],
   "source": [
    "## Random\n",
    "random_item = train.item_id.drop_duplicates().sample(n).values\n",
    "random_submission = sample_sumbission.copy()\n",
    "random_submission.item_id = [random_item.tolist()]*len(sample_sumbission)"
   ]
  },
  {
   "attachments": {},
   "cell_type": "markdown",
   "metadata": {},
   "source": [
    "## Evaluate"
   ]
  },
  {
   "cell_type": "code",
   "execution_count": 5,
   "metadata": {},
   "outputs": [
    {
     "name": "stdout",
     "output_type": "stream",
     "text": [
      "performance\n",
      "nDCG(random): 0.0000\n",
      "nDCG(mp): 0.0005\n",
      "nDCG(mp unique): 0.0007\n",
      "CPU times: total: 30.8 s\n",
      "Wall time: 31.1 s\n"
     ]
    }
   ],
   "source": [
    "%%time\n",
    "random_ndcg = ndcg_calculator(train_valid, random_submission, n)\n",
    "mp_ndcg = ndcg_calculator(train_valid, mp_submission, n)\n",
    "mp_unique_ndcg = ndcg_calculator(train_valid, mp_unique_submission, n)\n",
    "\n",
    "print(\"performance\")\n",
    "print(f\"nDCG(random): {random_ndcg:.4f}\")\n",
    "print(f\"nDCG(mp): {mp_ndcg:.4f}\")\n",
    "print(f\"nDCG(mp unique): {mp_unique_ndcg:.4f}\")"
   ]
  },
  {
   "cell_type": "code",
   "execution_count": 6,
   "metadata": {},
   "outputs": [
    {
     "name": "stdout",
     "output_type": "stream",
     "text": [
      "performance\n",
      "hit(random): 0.0000\n",
      "hit(mp): 0.0006\n",
      "hit(mp unique): 0.0006\n",
      "CPU times: total: 15.7 s\n",
      "Wall time: 16 s\n"
     ]
    }
   ],
   "source": [
    "%%time\n",
    "random_hit = hit_at_k(train_valid, random_submission, n)\n",
    "mp_hit = hit_at_k(train_valid, mp_submission, n)\n",
    "mp_unique_hit = hit_at_k(train_valid, mp_unique_submission, n)\n",
    "\n",
    "print(\"performance\")\n",
    "print(f\"hit(random): {random_hit:.4f}\")\n",
    "print(f\"hit(mp): {mp_hit:.4f}\")\n",
    "print(f\"hit(mp unique): {mp_unique_hit:.4f}\")"
   ]
  },
  {
   "attachments": {},
   "cell_type": "markdown",
   "metadata": {},
   "source": [
    "# last 30 Days MP"
   ]
  },
  {
   "cell_type": "code",
   "execution_count": 9,
   "metadata": {},
   "outputs": [],
   "source": [
    "# 홈쇼핑 상품이라면 최근 베스트셀러의 영향을 받을 것. 마지막 30일에 대한 Mp만 고려\n",
    "\n",
    "recent_days = 30\n",
    "train_recent30 = train[train[\"timestamp\"] >= (train[\"timestamp\"].max() - pd.Timedelta(days=recent_days))]"
   ]
  },
  {
   "cell_type": "code",
   "execution_count": 10,
   "metadata": {},
   "outputs": [],
   "source": [
    "mp = train_recent30.item_id.value_counts().head(n).index\n",
    "mp_unique = train_recent30.groupby(\"item_id\").user.nunique().nlargest(n).index\n",
    "\n",
    "#가장 많이 조회된 item(train에서 가장 자주 나타나는 item)\n",
    "mp_submission = sample_sumbission.copy()\n",
    "mp_submission.item_id = [mp.values.tolist()]*len(sample_sumbission)\n",
    "\n",
    "# 가장 많은 unique user가 조회한 item\n",
    "mp_unique_submission = sample_sumbission.copy() \n",
    "mp_unique_submission.item_id = [mp_unique.values.tolist()]*len(sample_sumbission)"
   ]
  },
  {
   "cell_type": "code",
   "execution_count": 11,
   "metadata": {},
   "outputs": [
    {
     "name": "stdout",
     "output_type": "stream",
     "text": [
      "performance\n",
      "nDCG(random): 0.0000\n",
      "nDCG(mp): 0.0008\n",
      "nDCG(mp unique): 0.0007\n",
      "CPU times: total: 32.1 s\n",
      "Wall time: 32.6 s\n"
     ]
    }
   ],
   "source": [
    "%%time\n",
    "random_ndcg = ndcg_calculator(train_valid, random_submission, n)\n",
    "mp_ndcg = ndcg_calculator(train_valid, mp_submission, n)\n",
    "mp_unique_ndcg = ndcg_calculator(train_valid, mp_unique_submission, n)\n",
    "\n",
    "print(\"performance\")\n",
    "print(f\"nDCG(random): {random_ndcg:.4f}\")\n",
    "print(f\"nDCG(mp): {mp_ndcg:.4f}\")\n",
    "print(f\"nDCG(mp unique): {mp_unique_ndcg:.4f}\")"
   ]
  },
  {
   "cell_type": "code",
   "execution_count": 12,
   "metadata": {},
   "outputs": [
    {
     "name": "stdout",
     "output_type": "stream",
     "text": [
      "performance\n",
      "hit(random): 0.0000\n",
      "hit(mp): 0.0007\n",
      "hit(mp unique): 0.0006\n",
      "CPU times: total: 16.5 s\n",
      "Wall time: 16.6 s\n"
     ]
    }
   ],
   "source": [
    "%%time\n",
    "random_hit = hit_at_k(train_valid, random_submission, n)\n",
    "mp_hit = hit_at_k(train_valid, mp_submission, n)\n",
    "mp_unique_hit = hit_at_k(train_valid, mp_unique_submission, n)\n",
    "\n",
    "print(\"performance\")\n",
    "print(f\"hit(random): {random_hit:.4f}\")\n",
    "print(f\"hit(mp): {mp_hit:.4f}\")\n",
    "print(f\"hit(mp unique): {mp_unique_hit:.4f}\")"
   ]
  },
  {
   "attachments": {},
   "cell_type": "markdown",
   "metadata": {},
   "source": [
    "- \"매우 근소한 차이\"지만, 최근 30일의 log만을 반영했을 때의 결과가 미미하게 낫다."
   ]
  }
 ],
 "metadata": {
  "kernelspec": {
   "display_name": "Python 3",
   "language": "python",
   "name": "python3"
  },
  "language_info": {
   "codemirror_mode": {
    "name": "ipython",
    "version": 3
   },
   "file_extension": ".py",
   "mimetype": "text/x-python",
   "name": "python",
   "nbconvert_exporter": "python",
   "pygments_lexer": "ipython3",
   "version": "3.10.5"
  },
  "orig_nbformat": 4,
  "vscode": {
   "interpreter": {
    "hash": "a31a978b9b36123e657517a00f2bc515935c5b3db5200b3f6166774c20a94c04"
   }
  }
 },
 "nbformat": 4,
 "nbformat_minor": 2
}
